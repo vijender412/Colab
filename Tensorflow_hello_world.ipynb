{
  "nbformat": 4,
  "nbformat_minor": 0,
  "metadata": {
    "colab": {
      "name": "hello_world.ipynb",
      "version": "0.3.2",
      "provenance": [],
      "collapsed_sections": [
        "JndnmDMp66FL"
      ],
      "include_colab_link": true
    },
    "kernelspec": {
      "name": "python2",
      "display_name": "Python 2"
    }
  },
  "cells": [
    {
      "cell_type": "markdown",
      "metadata": {
        "id": "view-in-github",
        "colab_type": "text"
      },
      "source": [
        "<a href=\"https://colab.research.google.com/github/vijender412/Colab/blob/master/Tensorflow_hello_world.ipynb\" target=\"_parent\"><img src=\"https://colab.research.google.com/assets/colab-badge.svg\" alt=\"Open In Colab\"/></a>"
      ]
    },
    {
      "metadata": {
        "colab_type": "text",
        "id": "JndnmDMp66FL"
      },
      "cell_type": "markdown",
      "source": [
        "#### Copyright 2017 Google LLC."
      ]
    },
    {
      "metadata": {
        "colab_type": "code",
        "id": "hMqWDc_m6rUC",
        "cellView": "both",
        "colab": {}
      },
      "cell_type": "code",
      "source": [
        "# Licensed under the Apache License, Version 2.0 (the \"License\");\n",
        "# you may not use this file except in compliance with the License.\n",
        "# You may obtain a copy of the License at\n",
        "#\n",
        "# https://www.apache.org/licenses/LICENSE-2.0\n",
        "#\n",
        "# Unless required by applicable law or agreed to in writing, software\n",
        "# distributed under the License is distributed on an \"AS IS\" BASIS,\n",
        "# WITHOUT WARRANTIES OR CONDITIONS OF ANY KIND, either express or implied.\n",
        "# See the License for the specific language governing permissions and\n",
        "# limitations under the License."
      ],
      "execution_count": 0,
      "outputs": []
    },
    {
      "metadata": {
        "colab_type": "text",
        "id": "cH-YtyZs7Gcg"
      },
      "cell_type": "markdown",
      "source": [
        "# Prework: Hello World"
      ]
    },
    {
      "metadata": {
        "colab_type": "text",
        "id": "r0QBC2kTixPn"
      },
      "cell_type": "markdown",
      "source": [
        "**Learning Objective:** Run a TensorFlow program in the browser."
      ]
    },
    {
      "metadata": {
        "colab_type": "text",
        "id": "33fL46pgixPo"
      },
      "cell_type": "markdown",
      "source": [
        "The code block below is a \"Hello World\" TensorFlow program.\n",
        "\n",
        "It consists of initialization code (importing tensorflow module and enabling \"eager execution\", which will be covered in more detail in subsequent exercises) and printing a \"Hello, world!\" string constant."
      ]
    },
    {
      "metadata": {
        "colab_type": "code",
        "id": "bRuPN7qo7ICp",
        "cellView": "both",
        "colab": {
          "base_uri": "https://localhost:8080/",
          "height": 153
        },
        "outputId": "450202ad-1c62-4485-879e-66c8d9d2d8a4"
      },
      "cell_type": "code",
      "source": [
        "from __future__ import print_function\n",
        "\n",
        "import tensorflow as tf\n",
        "try:\n",
        "  tf.contrib.eager.enable_eager_execution()\n",
        "except ValueError:\n",
        "  pass  # enable_eager_execution errors after its first call\n",
        "\n",
        "tensor = tf.constant('Hello, world!')\n",
        "tensor_value = tensor.numpy()\n",
        "print(tensor_value)"
      ],
      "execution_count": 1,
      "outputs": [
        {
          "output_type": "stream",
          "text": [
            "\n",
            "WARNING: The TensorFlow contrib module will not be included in TensorFlow 2.0.\n",
            "For more information, please see:\n",
            "  * https://github.com/tensorflow/community/blob/master/rfcs/20180907-contrib-sunset.md\n",
            "  * https://github.com/tensorflow/addons\n",
            "If you depend on functionality not listed there, please file an issue.\n",
            "\n",
            "Hello, world!\n"
          ],
          "name": "stdout"
        }
      ]
    },
    {
      "metadata": {
        "colab_type": "text",
        "id": "Bl1nAshab6m5"
      },
      "cell_type": "markdown",
      "source": [
        "## To Run This Program\n",
        "\n",
        "  1. Click anywhere in the code block (for example, on the word `import`).\n",
        "\n",
        "  2. Click the right-facing-triangle icon in the upper-left corner of the code block, or hit ⌘/Ctrl-Enter.\n",
        "\n",
        "     The program will take a few seconds to run. If all goes well, the program will write the phrase `Hello, world!` just below the code block\n",
        "\n",
        "This entire program consists of a single code block. However, most exercises consist of multiple code blocks, in which case you should **run the code blocks individually in sequence, from top to bottom.** \n",
        "\n",
        "Running the code blocks out of sequence typically causes errors."
      ]
    },
    {
      "metadata": {
        "colab_type": "text",
        "id": "UpzZ0Gv-uKf_"
      },
      "cell_type": "markdown",
      "source": [
        "## Useful Keyboard Shortcuts\n",
        "\n",
        "* **⌘/Ctrl+m,b:** creates an empty code cell below the cell that's currently selected\n",
        "* **⌘/Ctrl+m,i:** interrupts a running cell\n",
        "* **⌘/Ctrl+m,h:** shows a list of all keyboard shortcuts\n",
        "* For documentation on any TensorFlow API method, place the cursor right after its opening parenthesis and hit **Tab**:\n",
        "\n",
        "  ![pop-up documentation for TensorFlow tf.constant method](https://download.mlcc.google.com/mledu-images/tf_pop_up_doc_example.png)"
      ]
    }
  ]
}