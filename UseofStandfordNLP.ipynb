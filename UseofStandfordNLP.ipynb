{
  "nbformat": 4,
  "nbformat_minor": 0,
  "metadata": {
    "colab": {
      "name": "UseofStandfordNLP.ipynb",
      "version": "0.3.2",
      "provenance": [],
      "collapsed_sections": [
        "auHZZ6JUveqm",
        "gS9LJNfCvl8W",
        "xZClcABtvx4-",
        "tXVmyDJQwc12",
        "NHW8A89bwBi4",
        "EUQfa8-BwGgU",
        "MMCqkWC8wKnY",
        "jiR4Ig4-AvZX",
        "LIy4rSMFwu8S",
        "pNnb--uHw2NX",
        "ZfDR9nJmxD5_",
        "JLX3ZzLMzJtb"
      ],
      "include_colab_link": true
    },
    "kernelspec": {
      "name": "python3",
      "display_name": "Python 3"
    }
  },
  "cells": [
    {
      "cell_type": "markdown",
      "metadata": {
        "id": "view-in-github",
        "colab_type": "text"
      },
      "source": [
        "<a href=\"https://colab.research.google.com/github/vijender412/Colab/blob/master/UseofStandfordNLP.ipynb\" target=\"_parent\"><img src=\"https://colab.research.google.com/assets/colab-badge.svg\" alt=\"Open In Colab\"/></a>"
      ]
    },
    {
      "metadata": {
        "id": "Mz-H2FreuiEO",
        "colab_type": "text"
      },
      "cell_type": "markdown",
      "source": [
        "# Stanford NLP Implementation with Python\n",
        "\n",
        "\n",
        "\n",
        "References \n",
        "\n",
        "\n",
        "1.   https://www.analyticsvidhya.com/blog/2019/02/stanfordnlp-nlp-library-python/\n",
        "2.   https://stanfordnlp.github.io/CoreNLP/\n",
        "3.   https://textblob.readthedocs.io/en/dev/\n",
        "\n",
        "\n",
        "---\n",
        "Contact for any help @ Vijender Singh"
      ]
    },
    {
      "metadata": {
        "id": "auHZZ6JUveqm",
        "colab_type": "text"
      },
      "cell_type": "markdown",
      "source": [
        "# Setting up StanfordNLP in Python"
      ]
    },
    {
      "metadata": {
        "id": "1-MwYCmUyPFj",
        "colab_type": "code",
        "colab": {
          "base_uri": "https://localhost:8080/",
          "height": 309
        },
        "outputId": "009a1062-bff7-45c9-bd0e-6f776489b5a9"
      },
      "cell_type": "code",
      "source": [
        "!pip install stanfordnlp"
      ],
      "execution_count": 2,
      "outputs": [
        {
          "output_type": "stream",
          "text": [
            "Collecting stanfordnlp\n",
            "\u001b[?25l  Downloading https://files.pythonhosted.org/packages/c6/53/86245cebb380fb5f7f5e16eccfe78afed8c3c2c7ef218331cbcafce2be18/stanfordnlp-0.1.2-py3-none-any.whl (135kB)\n",
            "\u001b[K    100% |████████████████████████████████| 143kB 10.6MB/s \n",
            "\u001b[?25hRequirement already satisfied: tqdm in /usr/local/lib/python3.6/dist-packages (from stanfordnlp) (4.28.1)\n",
            "Requirement already satisfied: numpy in /usr/local/lib/python3.6/dist-packages (from stanfordnlp) (1.14.6)\n",
            "Requirement already satisfied: torch in /usr/local/lib/python3.6/dist-packages (from stanfordnlp) (1.0.1.post2)\n",
            "Requirement already satisfied: requests in /usr/local/lib/python3.6/dist-packages (from stanfordnlp) (2.18.4)\n",
            "Requirement already satisfied: protobuf in /usr/local/lib/python3.6/dist-packages (from stanfordnlp) (3.7.1)\n",
            "Requirement already satisfied: idna<2.7,>=2.5 in /usr/local/lib/python3.6/dist-packages (from requests->stanfordnlp) (2.6)\n",
            "Requirement already satisfied: chardet<3.1.0,>=3.0.2 in /usr/local/lib/python3.6/dist-packages (from requests->stanfordnlp) (3.0.4)\n",
            "Requirement already satisfied: urllib3<1.23,>=1.21.1 in /usr/local/lib/python3.6/dist-packages (from requests->stanfordnlp) (1.22)\n",
            "Requirement already satisfied: certifi>=2017.4.17 in /usr/local/lib/python3.6/dist-packages (from requests->stanfordnlp) (2019.3.9)\n",
            "Requirement already satisfied: six>=1.9 in /usr/local/lib/python3.6/dist-packages (from protobuf->stanfordnlp) (1.11.0)\n",
            "Requirement already satisfied: setuptools in /usr/local/lib/python3.6/dist-packages (from protobuf->stanfordnlp) (40.9.0)\n",
            "Installing collected packages: stanfordnlp\n",
            "Successfully installed stanfordnlp-0.1.2\n"
          ],
          "name": "stdout"
        }
      ]
    },
    {
      "metadata": {
        "id": "gS9LJNfCvl8W",
        "colab_type": "text"
      },
      "cell_type": "markdown",
      "source": [
        "# Importing StanfordNLP"
      ]
    },
    {
      "metadata": {
        "id": "dd5p9OGcuNzS",
        "colab_type": "code",
        "colab": {}
      },
      "cell_type": "code",
      "source": [
        "import stanfordnlp"
      ],
      "execution_count": 0,
      "outputs": []
    },
    {
      "metadata": {
        "id": "xZClcABtvx4-",
        "colab_type": "text"
      },
      "cell_type": "markdown",
      "source": [
        "# Using StanfordNLP to Perform Basic NLP Tasks"
      ]
    },
    {
      "metadata": {
        "id": "5gV-s6gryh9k",
        "colab_type": "code",
        "colab": {
          "base_uri": "https://localhost:8080/",
          "height": 819
        },
        "outputId": "3b3d65ec-c58a-464f-c6b1-c3e583e5fdb9"
      },
      "cell_type": "code",
      "source": [
        "stanfordnlp.download('en')   # This downloads the English models for the neural pipeline\n",
        "nlp = stanfordnlp.Pipeline() # This sets up a default neural pipeline in English"
      ],
      "execution_count": 4,
      "outputs": [
        {
          "output_type": "stream",
          "text": [
            "Using the default treebank \"en_ewt\" for language \"en\".\n",
            "Would you like to download the models for: en_ewt now? (Y/n)\n",
            "Y\n",
            "\n",
            "Default download directory: /root/stanfordnlp_resources\n",
            "Hit enter to continue or type an alternate directory.\n",
            "\n",
            "\n",
            "Downloading models for: en_ewt\n",
            "Download location: /root/stanfordnlp_resources/en_ewt_models.zip\n"
          ],
          "name": "stdout"
        },
        {
          "output_type": "stream",
          "text": [
            "100%|██████████| 1.96G/1.96G [01:10<00:00, 16.1MB/s]\n"
          ],
          "name": "stderr"
        },
        {
          "output_type": "stream",
          "text": [
            "\n",
            "Download complete.  Models saved to: /root/stanfordnlp_resources/en_ewt_models.zip\n",
            "Extracting models file for: en_ewt\n",
            "Cleaning up...Done.\n",
            "Use device: cpu\n",
            "---\n",
            "Loading: tokenize\n",
            "With settings: \n",
            "{'model_path': '/root/stanfordnlp_resources/en_ewt_models/en_ewt_tokenizer.pt', 'lang': 'en', 'shorthand': 'en_ewt', 'mode': 'predict'}\n",
            "---\n",
            "Loading: pos\n",
            "With settings: \n",
            "{'model_path': '/root/stanfordnlp_resources/en_ewt_models/en_ewt_tagger.pt', 'pretrain_path': '/root/stanfordnlp_resources/en_ewt_models/en_ewt.pretrain.pt', 'lang': 'en', 'shorthand': 'en_ewt', 'mode': 'predict'}\n",
            "---\n",
            "Loading: lemma\n",
            "With settings: \n",
            "{'model_path': '/root/stanfordnlp_resources/en_ewt_models/en_ewt_lemmatizer.pt', 'lang': 'en', 'shorthand': 'en_ewt', 'mode': 'predict'}\n",
            "Building an attentional Seq2Seq model...\n",
            "Using a Bi-LSTM encoder\n",
            "Using soft attention for LSTM.\n",
            "Finetune all embeddings.\n",
            "[Running seq2seq lemmatizer with edit classifier]\n",
            "---\n",
            "Loading: depparse\n",
            "With settings: \n",
            "{'model_path': '/root/stanfordnlp_resources/en_ewt_models/en_ewt_parser.pt', 'pretrain_path': '/root/stanfordnlp_resources/en_ewt_models/en_ewt.pretrain.pt', 'lang': 'en', 'shorthand': 'en_ewt', 'mode': 'predict'}\n",
            "Done loading processors!\n",
            "---\n",
            "('Barack', '4', 'nsubj:pass')\n",
            "('Obama', '1', 'flat')\n",
            "('was', '4', 'aux:pass')\n",
            "('born', '0', 'root')\n",
            "('in', '6', 'case')\n",
            "('Hawaii', '4', 'obl')\n",
            "('.', '4', 'punct')\n"
          ],
          "name": "stdout"
        }
      ]
    },
    {
      "metadata": {
        "id": "tXVmyDJQwc12",
        "colab_type": "text"
      },
      "cell_type": "markdown",
      "source": [
        "# Dependency Extraction"
      ]
    },
    {
      "metadata": {
        "id": "s2BKtxCNypRB",
        "colab_type": "code",
        "colab": {
          "base_uri": "https://localhost:8080/",
          "height": 119
        },
        "outputId": "c785f967-e06d-4c87-82cb-e75424fd35b3"
      },
      "cell_type": "code",
      "source": [
        "my_str = \"Hello my name is vijender. I am Swimming \"\n",
        "doc = nlp(my_str)\n",
        "doc.sentences[0].print_dependencies()"
      ],
      "execution_count": 28,
      "outputs": [
        {
          "output_type": "stream",
          "text": [
            "('Hello', '5', 'discourse')\n",
            "('my', '3', 'nmod:poss')\n",
            "('name', '5', 'nsubj')\n",
            "('is', '5', 'cop')\n",
            "('vijender', '0', 'root')\n",
            "('.', '5', 'punct')\n"
          ],
          "name": "stdout"
        }
      ]
    },
    {
      "metadata": {
        "id": "NHW8A89bwBi4",
        "colab_type": "text"
      },
      "cell_type": "markdown",
      "source": [
        "#Tokenization"
      ]
    },
    {
      "metadata": {
        "id": "y5g-EMTYzzZe",
        "colab_type": "code",
        "colab": {
          "base_uri": "https://localhost:8080/",
          "height": 139
        },
        "outputId": "a62aa322-b4ec-4a9a-bc14-bd0b4cfa5f40"
      },
      "cell_type": "code",
      "source": [
        "doc.sentences[0].print_tokens()"
      ],
      "execution_count": 16,
      "outputs": [
        {
          "output_type": "stream",
          "text": [
            "<Token index=1;words=[<Word index=1;text=Hello;lemma=hello;upos=INTJ;xpos=UH;feats=_;governor=5;dependency_relation=discourse>]>\n",
            "<Token index=2;words=[<Word index=2;text=my;lemma=my;upos=PRON;xpos=PRP$;feats=Number=Sing|Person=1|Poss=Yes|PronType=Prs;governor=3;dependency_relation=nmod:poss>]>\n",
            "<Token index=3;words=[<Word index=3;text=name;lemma=name;upos=NOUN;xpos=NN;feats=Number=Sing;governor=5;dependency_relation=nsubj>]>\n",
            "<Token index=4;words=[<Word index=4;text=is;lemma=be;upos=AUX;xpos=VBZ;feats=Mood=Ind|Number=Sing|Person=3|Tense=Pres|VerbForm=Fin;governor=5;dependency_relation=cop>]>\n",
            "<Token index=5;words=[<Word index=5;text=vijender;lemma=vijender;upos=NOUN;xpos=NN;feats=Number=Sing;governor=0;dependency_relation=root>]>\n",
            "<Token index=6;words=[<Word index=6;text=.;lemma=.;upos=PUNCT;xpos=.;feats=_;governor=5;dependency_relation=punct>]>\n"
          ],
          "name": "stdout"
        }
      ]
    },
    {
      "metadata": {
        "id": "EUQfa8-BwGgU",
        "colab_type": "text"
      },
      "cell_type": "markdown",
      "source": [
        "# Lemmatization"
      ]
    },
    {
      "metadata": {
        "id": "rDDAywqg0dG6",
        "colab_type": "code",
        "colab": {
          "base_uri": "https://localhost:8080/",
          "height": 328
        },
        "outputId": "db3d8441-000e-494f-dc64-fc74dd8df53e"
      },
      "cell_type": "code",
      "source": [
        "import pandas as pd\n",
        "\n",
        "#extract lemma\n",
        "def extract_lemma(doc):\n",
        "    parsed_text = {'word':[], 'lemma':[]}\n",
        "    for sent in doc.sentences:\n",
        "        for wrd in sent.words:\n",
        "            #extract text and lemma\n",
        "            parsed_text['word'].append(wrd.text)\n",
        "            parsed_text['lemma'].append(wrd.lemma)\n",
        "    #return a dataframe\n",
        "    return pd.DataFrame(parsed_text)\n",
        "\n",
        "#call the function on doc\n",
        "extract_lemma(doc)"
      ],
      "execution_count": 17,
      "outputs": [
        {
          "output_type": "execute_result",
          "data": {
            "text/html": [
              "<div>\n",
              "<style scoped>\n",
              "    .dataframe tbody tr th:only-of-type {\n",
              "        vertical-align: middle;\n",
              "    }\n",
              "\n",
              "    .dataframe tbody tr th {\n",
              "        vertical-align: top;\n",
              "    }\n",
              "\n",
              "    .dataframe thead th {\n",
              "        text-align: right;\n",
              "    }\n",
              "</style>\n",
              "<table border=\"1\" class=\"dataframe\">\n",
              "  <thead>\n",
              "    <tr style=\"text-align: right;\">\n",
              "      <th></th>\n",
              "      <th>lemma</th>\n",
              "      <th>word</th>\n",
              "    </tr>\n",
              "  </thead>\n",
              "  <tbody>\n",
              "    <tr>\n",
              "      <th>0</th>\n",
              "      <td>hello</td>\n",
              "      <td>Hello</td>\n",
              "    </tr>\n",
              "    <tr>\n",
              "      <th>1</th>\n",
              "      <td>my</td>\n",
              "      <td>my</td>\n",
              "    </tr>\n",
              "    <tr>\n",
              "      <th>2</th>\n",
              "      <td>name</td>\n",
              "      <td>name</td>\n",
              "    </tr>\n",
              "    <tr>\n",
              "      <th>3</th>\n",
              "      <td>be</td>\n",
              "      <td>is</td>\n",
              "    </tr>\n",
              "    <tr>\n",
              "      <th>4</th>\n",
              "      <td>vijender</td>\n",
              "      <td>vijender</td>\n",
              "    </tr>\n",
              "    <tr>\n",
              "      <th>5</th>\n",
              "      <td>.</td>\n",
              "      <td>.</td>\n",
              "    </tr>\n",
              "    <tr>\n",
              "      <th>6</th>\n",
              "      <td>I</td>\n",
              "      <td>I</td>\n",
              "    </tr>\n",
              "    <tr>\n",
              "      <th>7</th>\n",
              "      <td>be</td>\n",
              "      <td>am</td>\n",
              "    </tr>\n",
              "    <tr>\n",
              "      <th>8</th>\n",
              "      <td>swim</td>\n",
              "      <td>Swimming</td>\n",
              "    </tr>\n",
              "  </tbody>\n",
              "</table>\n",
              "</div>"
            ],
            "text/plain": [
              "      lemma      word\n",
              "0     hello     Hello\n",
              "1        my        my\n",
              "2      name      name\n",
              "3        be        is\n",
              "4  vijender  vijender\n",
              "5         .         .\n",
              "6         I         I\n",
              "7        be        am\n",
              "8      swim  Swimming"
            ]
          },
          "metadata": {
            "tags": []
          },
          "execution_count": 17
        }
      ]
    },
    {
      "metadata": {
        "id": "MMCqkWC8wKnY",
        "colab_type": "text"
      },
      "cell_type": "markdown",
      "source": [
        "# Parts of Speech (PoS) Tagging"
      ]
    },
    {
      "metadata": {
        "id": "7xGlfWnZ0pJ0",
        "colab_type": "code",
        "colab": {
          "base_uri": "https://localhost:8080/",
          "height": 328
        },
        "outputId": "d98b0d0b-d145-4dda-ddf0-7aa36c901637"
      },
      "cell_type": "code",
      "source": [
        "#dictionary that contains pos tags and their explanations\n",
        "pos_dict = {\n",
        "'CC': 'coordinating conjunction','CD': 'cardinal digit','DT': 'determiner',\n",
        "'EX': 'existential there (like: \\\"there is\\\" ... think of it like \\\"there exists\\\")',\n",
        "'FW': 'foreign word','IN':  'preposition/subordinating conjunction','JJ': 'adjective \\'big\\'',\n",
        "'JJR': 'adjective, comparative \\'bigger\\'','JJS': 'adjective, superlative \\'biggest\\'',\n",
        "'LS': 'list marker 1)','MD': 'modal could, will','NN': 'noun, singular \\'desk\\'',\n",
        "'NNS': 'noun plural \\'desks\\'','NNP': 'proper noun, singular \\'Harrison\\'',\n",
        "'NNPS': 'proper noun, plural \\'Americans\\'','PDT': 'predeterminer \\'all the kids\\'',\n",
        "'POS': 'possessive ending parent\\'s','PRP': 'personal pronoun I, he, she',\n",
        "'PRP$': 'possessive pronoun my, his, hers','RB': 'adverb very, silently,',\n",
        "'RBR': 'adverb, comparative better','RBS': 'adverb, superlative best',\n",
        "'RP': 'particle give up','TO': 'to go \\'to\\' the store.','UH': 'interjection errrrrrrrm',\n",
        "'VB': 'verb, base form take','VBD': 'verb, past tense took',\n",
        "'VBG': 'verb, gerund/present participle taking','VBN': 'verb, past participle taken',\n",
        "'VBP': 'verb, sing. present, non-3d take','VBZ': 'verb, 3rd person sing. present takes',\n",
        "'WDT': 'wh-determiner which','WP': 'wh-pronoun who, what','WP$': 'possessive wh-pronoun whose',\n",
        "'WRB': 'wh-abverb where, when','QF' : 'quantifier, bahut, thoda, kam (Hindi)','VM' : 'main verb',\n",
        "'PSP' : 'postposition, common in indian langs','DEM' : 'demonstrative, common in indian langs'\n",
        "}\n",
        "\n",
        "#extract parts of speech\n",
        "def extract_pos(doc):\n",
        "    parsed_text = {'word':[], 'pos':[], 'exp':[]}\n",
        "    for sent in doc.sentences:\n",
        "        for wrd in sent.words:\n",
        "            if wrd.pos in pos_dict.keys():\n",
        "                pos_exp = pos_dict[wrd.pos]\n",
        "            else:\n",
        "                pos_exp = 'NA'\n",
        "            parsed_text['word'].append(wrd.text)\n",
        "            parsed_text['pos'].append(wrd.pos)\n",
        "            parsed_text['exp'].append(pos_exp)\n",
        "    #return a dataframe of pos and text\n",
        "    return pd.DataFrame(parsed_text)\n",
        "\n",
        "#extract pos\n",
        "extract_pos(doc)"
      ],
      "execution_count": 41,
      "outputs": [
        {
          "output_type": "execute_result",
          "data": {
            "text/html": [
              "<div>\n",
              "<style scoped>\n",
              "    .dataframe tbody tr th:only-of-type {\n",
              "        vertical-align: middle;\n",
              "    }\n",
              "\n",
              "    .dataframe tbody tr th {\n",
              "        vertical-align: top;\n",
              "    }\n",
              "\n",
              "    .dataframe thead th {\n",
              "        text-align: right;\n",
              "    }\n",
              "</style>\n",
              "<table border=\"1\" class=\"dataframe\">\n",
              "  <thead>\n",
              "    <tr style=\"text-align: right;\">\n",
              "      <th></th>\n",
              "      <th>exp</th>\n",
              "      <th>pos</th>\n",
              "      <th>word</th>\n",
              "    </tr>\n",
              "  </thead>\n",
              "  <tbody>\n",
              "    <tr>\n",
              "      <th>0</th>\n",
              "      <td>interjection errrrrrrrm</td>\n",
              "      <td>UH</td>\n",
              "      <td>Hello</td>\n",
              "    </tr>\n",
              "    <tr>\n",
              "      <th>1</th>\n",
              "      <td>possessive pronoun my, his, hers</td>\n",
              "      <td>PRP$</td>\n",
              "      <td>my</td>\n",
              "    </tr>\n",
              "    <tr>\n",
              "      <th>2</th>\n",
              "      <td>noun, singular 'desk'</td>\n",
              "      <td>NN</td>\n",
              "      <td>name</td>\n",
              "    </tr>\n",
              "    <tr>\n",
              "      <th>3</th>\n",
              "      <td>verb, 3rd person sing. present takes</td>\n",
              "      <td>VBZ</td>\n",
              "      <td>is</td>\n",
              "    </tr>\n",
              "    <tr>\n",
              "      <th>4</th>\n",
              "      <td>noun, singular 'desk'</td>\n",
              "      <td>NN</td>\n",
              "      <td>vijender</td>\n",
              "    </tr>\n",
              "    <tr>\n",
              "      <th>5</th>\n",
              "      <td>NA</td>\n",
              "      <td>.</td>\n",
              "      <td>.</td>\n",
              "    </tr>\n",
              "    <tr>\n",
              "      <th>6</th>\n",
              "      <td>personal pronoun I, he, she</td>\n",
              "      <td>PRP</td>\n",
              "      <td>I</td>\n",
              "    </tr>\n",
              "    <tr>\n",
              "      <th>7</th>\n",
              "      <td>verb, sing. present, non-3d take</td>\n",
              "      <td>VBP</td>\n",
              "      <td>am</td>\n",
              "    </tr>\n",
              "    <tr>\n",
              "      <th>8</th>\n",
              "      <td>noun, singular 'desk'</td>\n",
              "      <td>NN</td>\n",
              "      <td>Swimming</td>\n",
              "    </tr>\n",
              "  </tbody>\n",
              "</table>\n",
              "</div>"
            ],
            "text/plain": [
              "                                    exp   pos      word\n",
              "0               interjection errrrrrrrm    UH     Hello\n",
              "1      possessive pronoun my, his, hers  PRP$        my\n",
              "2                 noun, singular 'desk'    NN      name\n",
              "3  verb, 3rd person sing. present takes   VBZ        is\n",
              "4                 noun, singular 'desk'    NN  vijender\n",
              "5                                    NA     .         .\n",
              "6           personal pronoun I, he, she   PRP         I\n",
              "7      verb, sing. present, non-3d take   VBP        am\n",
              "8                 noun, singular 'desk'    NN  Swimming"
            ]
          },
          "metadata": {
            "tags": []
          },
          "execution_count": 41
        }
      ]
    },
    {
      "metadata": {
        "id": "jiR4Ig4-AvZX",
        "colab_type": "text"
      },
      "cell_type": "markdown",
      "source": [
        "# **Processing text in Hindi (Devanagari Script)**"
      ]
    },
    {
      "metadata": {
        "id": "tpGKZXKb6xvC",
        "colab_type": "code",
        "colab": {
          "base_uri": "https://localhost:8080/",
          "height": 272
        },
        "outputId": "9dabf41b-b602-483b-bf74-71c0a4f7898b"
      },
      "cell_type": "code",
      "source": [
        "stanfordnlp.download('hi')"
      ],
      "execution_count": 36,
      "outputs": [
        {
          "output_type": "stream",
          "text": [
            "Using the default treebank \"hi_hdtb\" for language \"hi\".\n",
            "Would you like to download the models for: hi_hdtb now? (Y/n)\n",
            "Y\n",
            "\n",
            "Default download directory: /root/stanfordnlp_resources\n",
            "Hit enter to continue or type an alternate directory.\n",
            "\n",
            "\n",
            "Downloading models for: hi_hdtb\n",
            "Download location: /root/stanfordnlp_resources/hi_hdtb_models.zip\n"
          ],
          "name": "stdout"
        },
        {
          "output_type": "stream",
          "text": [
            "100%|██████████| 208M/208M [00:15<00:00, 13.0MB/s]\n"
          ],
          "name": "stderr"
        },
        {
          "output_type": "stream",
          "text": [
            "\n",
            "Download complete.  Models saved to: /root/stanfordnlp_resources/hi_hdtb_models.zip\n",
            "Extracting models file for: hi_hdtb\n",
            "Cleaning up...Done.\n"
          ],
          "name": "stdout"
        }
      ]
    },
    {
      "metadata": {
        "id": "1aUkD05xArTc",
        "colab_type": "code",
        "colab": {}
      },
      "cell_type": "code",
      "source": [
        "my_str2 = \"\"\"केंद्र की मोदी सरकार ने शुक्रवार को अपना अंतरिम बजट पेश किया. कार्यवाहक वित्त मंत्री पीयूष गोयल ने अपने बजट में किसान, मजदूर, करदाता, महिला वर्ग समेत हर किसी के लिए बंपर ऐलान किए. हालांकि, बजट के बाद भी टैक्स को लेकर काफी कन्फ्यूजन बना रहा. केंद्र सरकार के इस अंतरिम बजट क्या खास रहा और किसको क्या मिला, आसान भाषा में यहां समझें\"\"\"\n",
        "hindi_doc = nlp(my_str2)"
      ],
      "execution_count": 0,
      "outputs": []
    },
    {
      "metadata": {
        "id": "KJUT_btVBAqx",
        "colab_type": "code",
        "colab": {
          "base_uri": "https://localhost:8080/",
          "height": 1969
        },
        "outputId": "fb9f5fe4-9459-4f2a-c923-4ac19ca6a766"
      },
      "cell_type": "code",
      "source": [
        "extract_pos(hindi_doc)"
      ],
      "execution_count": 38,
      "outputs": [
        {
          "output_type": "execute_result",
          "data": {
            "text/html": [
              "<div>\n",
              "<style scoped>\n",
              "    .dataframe tbody tr th:only-of-type {\n",
              "        vertical-align: middle;\n",
              "    }\n",
              "\n",
              "    .dataframe tbody tr th {\n",
              "        vertical-align: top;\n",
              "    }\n",
              "\n",
              "    .dataframe thead th {\n",
              "        text-align: right;\n",
              "    }\n",
              "</style>\n",
              "<table border=\"1\" class=\"dataframe\">\n",
              "  <thead>\n",
              "    <tr style=\"text-align: right;\">\n",
              "      <th></th>\n",
              "      <th>exp</th>\n",
              "      <th>pos</th>\n",
              "      <th>word</th>\n",
              "    </tr>\n",
              "  </thead>\n",
              "  <tbody>\n",
              "    <tr>\n",
              "      <th>0</th>\n",
              "      <td>proper noun, singular 'Harrison'</td>\n",
              "      <td>NNP</td>\n",
              "      <td>केंद्र</td>\n",
              "    </tr>\n",
              "    <tr>\n",
              "      <th>1</th>\n",
              "      <td>proper noun, singular 'Harrison'</td>\n",
              "      <td>NNP</td>\n",
              "      <td>की</td>\n",
              "    </tr>\n",
              "    <tr>\n",
              "      <th>2</th>\n",
              "      <td>proper noun, singular 'Harrison'</td>\n",
              "      <td>NNP</td>\n",
              "      <td>मोदी</td>\n",
              "    </tr>\n",
              "    <tr>\n",
              "      <th>3</th>\n",
              "      <td>proper noun, singular 'Harrison'</td>\n",
              "      <td>NNP</td>\n",
              "      <td>सरकार</td>\n",
              "    </tr>\n",
              "    <tr>\n",
              "      <th>4</th>\n",
              "      <td>preposition/subordinating conjunction</td>\n",
              "      <td>IN</td>\n",
              "      <td>ने</td>\n",
              "    </tr>\n",
              "    <tr>\n",
              "      <th>5</th>\n",
              "      <td>proper noun, singular 'Harrison'</td>\n",
              "      <td>NNP</td>\n",
              "      <td>शुक्रवार</td>\n",
              "    </tr>\n",
              "    <tr>\n",
              "      <th>6</th>\n",
              "      <td>preposition/subordinating conjunction</td>\n",
              "      <td>IN</td>\n",
              "      <td>को</td>\n",
              "    </tr>\n",
              "    <tr>\n",
              "      <th>7</th>\n",
              "      <td>proper noun, singular 'Harrison'</td>\n",
              "      <td>NNP</td>\n",
              "      <td>अपना</td>\n",
              "    </tr>\n",
              "    <tr>\n",
              "      <th>8</th>\n",
              "      <td>proper noun, singular 'Harrison'</td>\n",
              "      <td>NNP</td>\n",
              "      <td>अंतरिम</td>\n",
              "    </tr>\n",
              "    <tr>\n",
              "      <th>9</th>\n",
              "      <td>proper noun, singular 'Harrison'</td>\n",
              "      <td>NNP</td>\n",
              "      <td>बजट</td>\n",
              "    </tr>\n",
              "    <tr>\n",
              "      <th>10</th>\n",
              "      <td>proper noun, singular 'Harrison'</td>\n",
              "      <td>NNP</td>\n",
              "      <td>पेश</td>\n",
              "    </tr>\n",
              "    <tr>\n",
              "      <th>11</th>\n",
              "      <td>proper noun, singular 'Harrison'</td>\n",
              "      <td>NNP</td>\n",
              "      <td>किया</td>\n",
              "    </tr>\n",
              "    <tr>\n",
              "      <th>12</th>\n",
              "      <td>NA</td>\n",
              "      <td>.</td>\n",
              "      <td>.</td>\n",
              "    </tr>\n",
              "    <tr>\n",
              "      <th>13</th>\n",
              "      <td>NA</td>\n",
              "      <td>NFP</td>\n",
              "      <td>कार्यवाहक</td>\n",
              "    </tr>\n",
              "    <tr>\n",
              "      <th>14</th>\n",
              "      <td>NA</td>\n",
              "      <td>,</td>\n",
              "      <td>वित्त</td>\n",
              "    </tr>\n",
              "    <tr>\n",
              "      <th>15</th>\n",
              "      <td>NA</td>\n",
              "      <td>,</td>\n",
              "      <td>मंत्री</td>\n",
              "    </tr>\n",
              "    <tr>\n",
              "      <th>16</th>\n",
              "      <td>NA</td>\n",
              "      <td>,</td>\n",
              "      <td>पीयूष</td>\n",
              "    </tr>\n",
              "    <tr>\n",
              "      <th>17</th>\n",
              "      <td>NA</td>\n",
              "      <td>,</td>\n",
              "      <td>गोयल</td>\n",
              "    </tr>\n",
              "    <tr>\n",
              "      <th>18</th>\n",
              "      <td>foreign word</td>\n",
              "      <td>FW</td>\n",
              "      <td>ने</td>\n",
              "    </tr>\n",
              "    <tr>\n",
              "      <th>19</th>\n",
              "      <td>NA</td>\n",
              "      <td>AFX</td>\n",
              "      <td>अपने</td>\n",
              "    </tr>\n",
              "    <tr>\n",
              "      <th>20</th>\n",
              "      <td>NA</td>\n",
              "      <td>,</td>\n",
              "      <td>बजट</td>\n",
              "    </tr>\n",
              "    <tr>\n",
              "      <th>21</th>\n",
              "      <td>NA</td>\n",
              "      <td>AFX</td>\n",
              "      <td>में</td>\n",
              "    </tr>\n",
              "    <tr>\n",
              "      <th>22</th>\n",
              "      <td>proper noun, singular 'Harrison'</td>\n",
              "      <td>NNP</td>\n",
              "      <td>किसान</td>\n",
              "    </tr>\n",
              "    <tr>\n",
              "      <th>23</th>\n",
              "      <td>NA</td>\n",
              "      <td>,</td>\n",
              "      <td>,</td>\n",
              "    </tr>\n",
              "    <tr>\n",
              "      <th>24</th>\n",
              "      <td>proper noun, singular 'Harrison'</td>\n",
              "      <td>NNP</td>\n",
              "      <td>मजदूर</td>\n",
              "    </tr>\n",
              "    <tr>\n",
              "      <th>25</th>\n",
              "      <td>NA</td>\n",
              "      <td>,</td>\n",
              "      <td>,</td>\n",
              "    </tr>\n",
              "    <tr>\n",
              "      <th>26</th>\n",
              "      <td>proper noun, singular 'Harrison'</td>\n",
              "      <td>NNP</td>\n",
              "      <td>करदाता</td>\n",
              "    </tr>\n",
              "    <tr>\n",
              "      <th>27</th>\n",
              "      <td>NA</td>\n",
              "      <td>,</td>\n",
              "      <td>,</td>\n",
              "    </tr>\n",
              "    <tr>\n",
              "      <th>28</th>\n",
              "      <td>foreign word</td>\n",
              "      <td>FW</td>\n",
              "      <td>महिला</td>\n",
              "    </tr>\n",
              "    <tr>\n",
              "      <th>29</th>\n",
              "      <td>foreign word</td>\n",
              "      <td>FW</td>\n",
              "      <td>वर्ग</td>\n",
              "    </tr>\n",
              "    <tr>\n",
              "      <th>...</th>\n",
              "      <td>...</td>\n",
              "      <td>...</td>\n",
              "      <td>...</td>\n",
              "    </tr>\n",
              "    <tr>\n",
              "      <th>42</th>\n",
              "      <td>proper noun, singular 'Harrison'</td>\n",
              "      <td>NNP</td>\n",
              "      <td>के</td>\n",
              "    </tr>\n",
              "    <tr>\n",
              "      <th>43</th>\n",
              "      <td>proper noun, singular 'Harrison'</td>\n",
              "      <td>NNP</td>\n",
              "      <td>बाद</td>\n",
              "    </tr>\n",
              "    <tr>\n",
              "      <th>44</th>\n",
              "      <td>preposition/subordinating conjunction</td>\n",
              "      <td>IN</td>\n",
              "      <td>भी</td>\n",
              "    </tr>\n",
              "    <tr>\n",
              "      <th>45</th>\n",
              "      <td>proper noun, singular 'Harrison'</td>\n",
              "      <td>NNP</td>\n",
              "      <td>टैक्स</td>\n",
              "    </tr>\n",
              "    <tr>\n",
              "      <th>46</th>\n",
              "      <td>preposition/subordinating conjunction</td>\n",
              "      <td>IN</td>\n",
              "      <td>को</td>\n",
              "    </tr>\n",
              "    <tr>\n",
              "      <th>47</th>\n",
              "      <td>proper noun, singular 'Harrison'</td>\n",
              "      <td>NNP</td>\n",
              "      <td>लेकर</td>\n",
              "    </tr>\n",
              "    <tr>\n",
              "      <th>48</th>\n",
              "      <td>proper noun, singular 'Harrison'</td>\n",
              "      <td>NNP</td>\n",
              "      <td>काफी</td>\n",
              "    </tr>\n",
              "    <tr>\n",
              "      <th>49</th>\n",
              "      <td>proper noun, singular 'Harrison'</td>\n",
              "      <td>NNP</td>\n",
              "      <td>कन्फ्यूजन</td>\n",
              "    </tr>\n",
              "    <tr>\n",
              "      <th>50</th>\n",
              "      <td>proper noun, singular 'Harrison'</td>\n",
              "      <td>NNP</td>\n",
              "      <td>बना</td>\n",
              "    </tr>\n",
              "    <tr>\n",
              "      <th>51</th>\n",
              "      <td>proper noun, singular 'Harrison'</td>\n",
              "      <td>NNP</td>\n",
              "      <td>रहा</td>\n",
              "    </tr>\n",
              "    <tr>\n",
              "      <th>52</th>\n",
              "      <td>NA</td>\n",
              "      <td>.</td>\n",
              "      <td>.</td>\n",
              "    </tr>\n",
              "    <tr>\n",
              "      <th>53</th>\n",
              "      <td>NA</td>\n",
              "      <td>``</td>\n",
              "      <td>केंद्र</td>\n",
              "    </tr>\n",
              "    <tr>\n",
              "      <th>54</th>\n",
              "      <td>foreign word</td>\n",
              "      <td>FW</td>\n",
              "      <td>सरकार</td>\n",
              "    </tr>\n",
              "    <tr>\n",
              "      <th>55</th>\n",
              "      <td>foreign word</td>\n",
              "      <td>FW</td>\n",
              "      <td>के</td>\n",
              "    </tr>\n",
              "    <tr>\n",
              "      <th>56</th>\n",
              "      <td>foreign word</td>\n",
              "      <td>FW</td>\n",
              "      <td>इस</td>\n",
              "    </tr>\n",
              "    <tr>\n",
              "      <th>57</th>\n",
              "      <td>NA</td>\n",
              "      <td>AFX</td>\n",
              "      <td>अंतरिम</td>\n",
              "    </tr>\n",
              "    <tr>\n",
              "      <th>58</th>\n",
              "      <td>NA</td>\n",
              "      <td>,</td>\n",
              "      <td>बजट</td>\n",
              "    </tr>\n",
              "    <tr>\n",
              "      <th>59</th>\n",
              "      <td>proper noun, singular 'Harrison'</td>\n",
              "      <td>NNP</td>\n",
              "      <td>क्या</td>\n",
              "    </tr>\n",
              "    <tr>\n",
              "      <th>60</th>\n",
              "      <td>proper noun, singular 'Harrison'</td>\n",
              "      <td>NNP</td>\n",
              "      <td>खास</td>\n",
              "    </tr>\n",
              "    <tr>\n",
              "      <th>61</th>\n",
              "      <td>proper noun, singular 'Harrison'</td>\n",
              "      <td>NNP</td>\n",
              "      <td>रहा</td>\n",
              "    </tr>\n",
              "    <tr>\n",
              "      <th>62</th>\n",
              "      <td>proper noun, singular 'Harrison'</td>\n",
              "      <td>NNP</td>\n",
              "      <td>और</td>\n",
              "    </tr>\n",
              "    <tr>\n",
              "      <th>63</th>\n",
              "      <td>proper noun, singular 'Harrison'</td>\n",
              "      <td>NNP</td>\n",
              "      <td>किसको</td>\n",
              "    </tr>\n",
              "    <tr>\n",
              "      <th>64</th>\n",
              "      <td>proper noun, singular 'Harrison'</td>\n",
              "      <td>NNP</td>\n",
              "      <td>क्या</td>\n",
              "    </tr>\n",
              "    <tr>\n",
              "      <th>65</th>\n",
              "      <td>proper noun, singular 'Harrison'</td>\n",
              "      <td>NNP</td>\n",
              "      <td>मिला</td>\n",
              "    </tr>\n",
              "    <tr>\n",
              "      <th>66</th>\n",
              "      <td>NA</td>\n",
              "      <td>,</td>\n",
              "      <td>,</td>\n",
              "    </tr>\n",
              "    <tr>\n",
              "      <th>67</th>\n",
              "      <td>proper noun, singular 'Harrison'</td>\n",
              "      <td>NNP</td>\n",
              "      <td>आसान</td>\n",
              "    </tr>\n",
              "    <tr>\n",
              "      <th>68</th>\n",
              "      <td>proper noun, singular 'Harrison'</td>\n",
              "      <td>NNP</td>\n",
              "      <td>भाषा</td>\n",
              "    </tr>\n",
              "    <tr>\n",
              "      <th>69</th>\n",
              "      <td>NA</td>\n",
              "      <td>AFX</td>\n",
              "      <td>में</td>\n",
              "    </tr>\n",
              "    <tr>\n",
              "      <th>70</th>\n",
              "      <td>proper noun, singular 'Harrison'</td>\n",
              "      <td>NNP</td>\n",
              "      <td>यहां</td>\n",
              "    </tr>\n",
              "    <tr>\n",
              "      <th>71</th>\n",
              "      <td>NA</td>\n",
              "      <td>.</td>\n",
              "      <td>समझें</td>\n",
              "    </tr>\n",
              "  </tbody>\n",
              "</table>\n",
              "<p>72 rows × 3 columns</p>\n",
              "</div>"
            ],
            "text/plain": [
              "                                      exp  pos       word\n",
              "0        proper noun, singular 'Harrison'  NNP     केंद्र\n",
              "1        proper noun, singular 'Harrison'  NNP         की\n",
              "2        proper noun, singular 'Harrison'  NNP       मोदी\n",
              "3        proper noun, singular 'Harrison'  NNP      सरकार\n",
              "4   preposition/subordinating conjunction   IN         ने\n",
              "5        proper noun, singular 'Harrison'  NNP   शुक्रवार\n",
              "6   preposition/subordinating conjunction   IN         को\n",
              "7        proper noun, singular 'Harrison'  NNP       अपना\n",
              "8        proper noun, singular 'Harrison'  NNP     अंतरिम\n",
              "9        proper noun, singular 'Harrison'  NNP        बजट\n",
              "10       proper noun, singular 'Harrison'  NNP        पेश\n",
              "11       proper noun, singular 'Harrison'  NNP       किया\n",
              "12                                     NA    .          .\n",
              "13                                     NA  NFP  कार्यवाहक\n",
              "14                                     NA    ,      वित्त\n",
              "15                                     NA    ,     मंत्री\n",
              "16                                     NA    ,      पीयूष\n",
              "17                                     NA    ,       गोयल\n",
              "18                           foreign word   FW         ने\n",
              "19                                     NA  AFX       अपने\n",
              "20                                     NA    ,        बजट\n",
              "21                                     NA  AFX        में\n",
              "22       proper noun, singular 'Harrison'  NNP      किसान\n",
              "23                                     NA    ,          ,\n",
              "24       proper noun, singular 'Harrison'  NNP      मजदूर\n",
              "25                                     NA    ,          ,\n",
              "26       proper noun, singular 'Harrison'  NNP     करदाता\n",
              "27                                     NA    ,          ,\n",
              "28                           foreign word   FW      महिला\n",
              "29                           foreign word   FW       वर्ग\n",
              "..                                    ...  ...        ...\n",
              "42       proper noun, singular 'Harrison'  NNP         के\n",
              "43       proper noun, singular 'Harrison'  NNP        बाद\n",
              "44  preposition/subordinating conjunction   IN         भी\n",
              "45       proper noun, singular 'Harrison'  NNP      टैक्स\n",
              "46  preposition/subordinating conjunction   IN         को\n",
              "47       proper noun, singular 'Harrison'  NNP       लेकर\n",
              "48       proper noun, singular 'Harrison'  NNP       काफी\n",
              "49       proper noun, singular 'Harrison'  NNP  कन्फ्यूजन\n",
              "50       proper noun, singular 'Harrison'  NNP        बना\n",
              "51       proper noun, singular 'Harrison'  NNP        रहा\n",
              "52                                     NA    .          .\n",
              "53                                     NA   ``     केंद्र\n",
              "54                           foreign word   FW      सरकार\n",
              "55                           foreign word   FW         के\n",
              "56                           foreign word   FW         इस\n",
              "57                                     NA  AFX     अंतरिम\n",
              "58                                     NA    ,        बजट\n",
              "59       proper noun, singular 'Harrison'  NNP       क्या\n",
              "60       proper noun, singular 'Harrison'  NNP        खास\n",
              "61       proper noun, singular 'Harrison'  NNP        रहा\n",
              "62       proper noun, singular 'Harrison'  NNP         और\n",
              "63       proper noun, singular 'Harrison'  NNP      किसको\n",
              "64       proper noun, singular 'Harrison'  NNP       क्या\n",
              "65       proper noun, singular 'Harrison'  NNP       मिला\n",
              "66                                     NA    ,          ,\n",
              "67       proper noun, singular 'Harrison'  NNP       आसान\n",
              "68       proper noun, singular 'Harrison'  NNP       भाषा\n",
              "69                                     NA  AFX        में\n",
              "70       proper noun, singular 'Harrison'  NNP       यहां\n",
              "71                                     NA    .      समझें\n",
              "\n",
              "[72 rows x 3 columns]"
            ]
          },
          "metadata": {
            "tags": []
          },
          "execution_count": 38
        }
      ]
    },
    {
      "metadata": {
        "id": "YGCQNcHnBL2Z",
        "colab_type": "code",
        "colab": {}
      },
      "cell_type": "code",
      "source": [
        ""
      ],
      "execution_count": 0,
      "outputs": []
    },
    {
      "metadata": {
        "id": "LIy4rSMFwu8S",
        "colab_type": "text"
      },
      "cell_type": "markdown",
      "source": [
        "# Sentiment Analysis using TextBlob"
      ]
    },
    {
      "metadata": {
        "colab_type": "code",
        "outputId": "0766f9f6-3d9d-4d8e-b278-edcc8394165d",
        "id": "6Hxz3wpqwkBd",
        "colab": {
          "base_uri": "https://localhost:8080/",
          "height": 34
        }
      },
      "cell_type": "code",
      "source": [
        "from textblob import TextBlob\n",
        "def sentiment(message):\n",
        "    # create TextBlob object of passed tweet text\n",
        "    analysis = TextBlob(message)\n",
        "    # set sentiment\n",
        "    return (analysis.sentiment.polarity)\n",
        "sentiment(my_str)"
      ],
      "execution_count": 0,
      "outputs": [
        {
          "output_type": "execute_result",
          "data": {
            "text/plain": [
              "0.0"
            ]
          },
          "metadata": {
            "tags": []
          },
          "execution_count": 29
        }
      ]
    },
    {
      "metadata": {
        "id": "pNnb--uHw2NX",
        "colab_type": "text"
      },
      "cell_type": "markdown",
      "source": [
        "# Sentiment Analysis with Machine Learning Classifier"
      ]
    },
    {
      "metadata": {
        "colab_type": "code",
        "outputId": "31407cf4-d136-4d65-8768-59013c413c13",
        "id": "xebSbDuZwkBU",
        "colab": {
          "base_uri": "https://localhost:8080/",
          "height": 68
        }
      },
      "cell_type": "code",
      "source": [
        "# Custom training\n",
        "import nltk\n",
        "nltk.download('punkt')\n"
      ],
      "execution_count": 2,
      "outputs": [
        {
          "output_type": "stream",
          "text": [
            "[nltk_data] Downloading package punkt to /root/nltk_data...\n",
            "[nltk_data]   Unzipping tokenizers/punkt.zip.\n"
          ],
          "name": "stdout"
        },
        {
          "output_type": "execute_result",
          "data": {
            "text/plain": [
              "True"
            ]
          },
          "metadata": {
            "tags": []
          },
          "execution_count": 2
        }
      ]
    },
    {
      "metadata": {
        "colab_type": "code",
        "outputId": "ea39d137-ecae-47d1-b975-b4befaa73fab",
        "id": "GKBEAKulwkBF",
        "colab": {
          "base_uri": "https://localhost:8080/",
          "height": 85
        }
      },
      "cell_type": "code",
      "source": [
        "from textblob import TextBlob\n",
        "from textblob.classifiers import NaiveBayesClassifier\n",
        "train = [\n",
        "        ('I love samosa', 'pos'),\n",
        "        ('Mumbai is not an amazing place!', 'neg'),\n",
        "        ('Delhi is amazing place', 'pos'),\n",
        "        ('I do not like this bar', 'neg'),\n",
        "        (\"I can't deal with this\", 'neg'),\n",
        "        (\"My wife is horrible.\", \"neg\")\n",
        "]\n",
        "cl = NaiveBayesClassifier(train)\n",
        "# cl.classify(\"I feel amazing!\")\n",
        "'pos'\n",
        "blob = TextBlob(\"The weather is good. But the pollution is horrible.\", classifier=cl)\n",
        "for s in blob.sentences:\n",
        "  print(s)\n",
        "  print(s.classify())\n"
      ],
      "execution_count": 4,
      "outputs": [
        {
          "output_type": "stream",
          "text": [
            "The weather is good.\n",
            "pos\n",
            "But the pollution is horrible.\n",
            "neg\n"
          ],
          "name": "stdout"
        }
      ]
    },
    {
      "metadata": {
        "id": "ZfDR9nJmxD5_",
        "colab_type": "text"
      },
      "cell_type": "markdown",
      "source": [
        "# Thanks Bye"
      ]
    },
    {
      "metadata": {
        "id": "UuS4ewpwCXSj",
        "colab_type": "code",
        "colab": {
          "base_uri": "https://localhost:8080/",
          "height": 34
        },
        "outputId": "3d9ee180-3654-4031-aa70-a7b5817773e8"
      },
      "cell_type": "code",
      "source": [
        "temp = input(\"Enter your text: \")"
      ],
      "execution_count": 9,
      "outputs": [
        {
          "output_type": "stream",
          "text": [
            "Enter your text: i am feeling awesome\n"
          ],
          "name": "stdout"
        }
      ]
    },
    {
      "metadata": {
        "id": "V3K9SB1UyDcH",
        "colab_type": "code",
        "colab": {
          "base_uri": "https://localhost:8080/",
          "height": 34
        },
        "outputId": "e4b258a7-f944-4638-8233-0342d4c3c870"
      },
      "cell_type": "code",
      "source": [
        "blob = TextBlob(temp, classifier=cl)\n",
        "result = blob.classify()\n",
        "# print(result)\n",
        "if result=='pos':\n",
        "  print(\"Great to hear that you have a good mood\")\n",
        "else:\n",
        "  print(\"Sad to hear that you have a bad mood\")"
      ],
      "execution_count": 12,
      "outputs": [
        {
          "output_type": "stream",
          "text": [
            "Great to hear that you have a good mood\n"
          ],
          "name": "stdout"
        }
      ]
    },
    {
      "metadata": {
        "id": "JLX3ZzLMzJtb",
        "colab_type": "text"
      },
      "cell_type": "markdown",
      "source": [
        "# Text Blob with Sentiment Analysis - Beta"
      ]
    },
    {
      "metadata": {
        "id": "lIDVyWkLzNaN",
        "colab_type": "code",
        "colab": {
          "base_uri": "https://localhost:8080/",
          "height": 136
        },
        "outputId": "ad7d1677-698c-45bf-f28e-ec8c23da0fa2"
      },
      "cell_type": "code",
      "source": [
        "import nltk\n",
        "nltk.download('averaged_perceptron_tagger')\n",
        "nltk.download('brown')"
      ],
      "execution_count": 17,
      "outputs": [
        {
          "output_type": "stream",
          "text": [
            "[nltk_data] Downloading package averaged_perceptron_tagger to\n",
            "[nltk_data]     /root/nltk_data...\n",
            "[nltk_data]   Package averaged_perceptron_tagger is already up-to-\n",
            "[nltk_data]       date!\n",
            "[nltk_data] Downloading package brown to /root/nltk_data...\n",
            "[nltk_data]   Package brown is already up-to-date!\n"
          ],
          "name": "stdout"
        },
        {
          "output_type": "execute_result",
          "data": {
            "text/plain": [
              "True"
            ]
          },
          "metadata": {
            "tags": []
          },
          "execution_count": 17
        }
      ]
    },
    {
      "metadata": {
        "id": "aAbCw4ilzOKU",
        "colab_type": "code",
        "colab": {
          "base_uri": "https://localhost:8080/",
          "height": 34
        },
        "outputId": "054e68b6-289f-4ab8-a99e-54e2ddc6534a"
      },
      "cell_type": "code",
      "source": [
        "from textblob import TextBlob\n",
        "\n",
        "# text = '''\n",
        "# Hey my name is Vijender Singh. I am having a great day. I believe python is the best programming language. \n",
        "# '''\n",
        "text = input(\"Enter your text: \")"
      ],
      "execution_count": 33,
      "outputs": [
        {
          "output_type": "stream",
          "text": [
            "Enter your text: Hey my name is Vijender Singh. I am having a great day. I believe python is the best programming language. \n"
          ],
          "name": "stdout"
        }
      ]
    },
    {
      "metadata": {
        "id": "5N3ggxKNzkNo",
        "colab_type": "code",
        "colab": {
          "base_uri": "https://localhost:8080/",
          "height": 71
        },
        "outputId": "66fa5325-e1ab-4525-9eb1-00bea116f58f"
      },
      "cell_type": "code",
      "source": [
        "blob = TextBlob(text)\n",
        "print(\"Tags of text are\" )\n",
        "print(blob.tags)"
      ],
      "execution_count": 34,
      "outputs": [
        {
          "output_type": "stream",
          "text": [
            "Tags of text are\n",
            "[('Hey', 'NNP'), ('my', 'PRP$'), ('name', 'NN'), ('is', 'VBZ'), ('Vijender', 'NNP'), ('Singh', 'NNP'), ('I', 'PRP'), ('am', 'VBP'), ('having', 'VBG'), ('a', 'DT'), ('great', 'JJ'), ('day', 'NN'), ('I', 'PRP'), ('believe', 'VBP'), ('python', 'NN'), ('is', 'VBZ'), ('the', 'DT'), ('best', 'JJS'), ('programming', 'NN'), ('language', 'NN')]\n"
          ],
          "name": "stdout"
        }
      ]
    },
    {
      "metadata": {
        "id": "7Uh0ZgW81H0m",
        "colab_type": "code",
        "colab": {
          "base_uri": "https://localhost:8080/",
          "height": 51
        },
        "outputId": "a7516467-9cb4-435e-c42a-6e5f9872ad26"
      },
      "cell_type": "code",
      "source": [
        "print(\"Noun Phrases of text are\" )\n",
        "blob.noun_phrases   \n",
        "\n"
      ],
      "execution_count": 35,
      "outputs": [
        {
          "output_type": "stream",
          "text": [
            "Noun Phrases of text are\n"
          ],
          "name": "stdout"
        },
        {
          "output_type": "execute_result",
          "data": {
            "text/plain": [
              "WordList(['hey', 'vijender singh', 'great day'])"
            ]
          },
          "metadata": {
            "tags": []
          },
          "execution_count": 35
        }
      ]
    },
    {
      "metadata": {
        "id": "dHMYqZKe1XY-",
        "colab_type": "code",
        "colab": {
          "base_uri": "https://localhost:8080/",
          "height": 85
        },
        "outputId": "81905acc-f8f3-4b88-d2dd-b39db41b7647"
      },
      "cell_type": "code",
      "source": [
        "print(\"Sentiment Analysis of each sentence is as follows \" )\n",
        "for sentence in blob.sentences:\n",
        "    print(sentence,sentence.sentiment.polarity)\n"
      ],
      "execution_count": 36,
      "outputs": [
        {
          "output_type": "stream",
          "text": [
            "Sentiment Analysis of each sentence is as follows \n",
            "Hey my name is Vijender Singh. 0.0\n",
            "I am having a great day. 0.8\n",
            "I believe python is the best programming language. 1.0\n"
          ],
          "name": "stdout"
        }
      ]
    },
    {
      "metadata": {
        "id": "duo8QNGt1aB4",
        "colab_type": "code",
        "colab": {
          "base_uri": "https://localhost:8080/",
          "height": 34
        },
        "outputId": "f33ceb87-092f-4327-bb11-631af417e6b3"
      },
      "cell_type": "code",
      "source": [
        "blob.translate(to=\"hi\") "
      ],
      "execution_count": 37,
      "outputs": [
        {
          "output_type": "execute_result",
          "data": {
            "text/plain": [
              "TextBlob(\"अरे मेरा नाम विजेंद्र सिंह है। मैं एक महान दिन रहा हूं। मेरा मानना ​​है कि अजगर सबसे अच्छी प्रोग्रामिंग भाषा है।\")"
            ]
          },
          "metadata": {
            "tags": []
          },
          "execution_count": 37
        }
      ]
    },
    {
      "metadata": {
        "id": "Nq8HDcmz1bUj",
        "colab_type": "code",
        "colab": {}
      },
      "cell_type": "code",
      "source": [
        ""
      ],
      "execution_count": 0,
      "outputs": []
    }
  ]
}