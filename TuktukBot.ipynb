{
  "nbformat": 4,
  "nbformat_minor": 0,
  "metadata": {
    "colab": {
      "name": "TuktukBot.ipynb",
      "version": "0.3.2",
      "provenance": [],
      "collapsed_sections": [
        "W_37fyfISZ8x",
        "7RytD5wmSlCk",
        "UhOqCGINSoPi",
        "aqWmf0xlSvql",
        "LcaflQpRS4rJ",
        "kAa6oswqTCOQ",
        "0Hb8V6G7TRlB",
        "MBuSGzprTlN2",
        "lZHuwAIKToUo",
        "JamMQ4jiSGlY",
        "ghR7WANnSVcj",
        "GOjv-qqQQlbR",
        "1lK9Z3BYQg3_",
        "-Bbb7-USR6b0",
        "v45dt_WlRiVm",
        "auZQ5wOORpZO",
        "AVPjVnRARs9b",
        "cJWPo2E9RXW2",
        "kXoY9p70Q6eR"
      ],
      "include_colab_link": true
    },
    "kernelspec": {
      "name": "python3",
      "display_name": "Python 3"
    },
    "accelerator": "GPU"
  },
  "cells": [
    {
      "cell_type": "markdown",
      "metadata": {
        "id": "view-in-github",
        "colab_type": "text"
      },
      "source": [
        "<a href=\"https://colab.research.google.com/github/vijender412/Colab/blob/master/TuktukBot.ipynb\" target=\"_parent\"><img src=\"https://colab.research.google.com/assets/colab-badge.svg\" alt=\"Open In Colab\"/></a>"
      ]
    },
    {
      "metadata": {
        "id": "McjCrqkfSZ_c",
        "colab_type": "text"
      },
      "cell_type": "markdown",
      "source": [
        "# TUKTUK BOT by Vijender"
      ]
    },
    {
      "metadata": {
        "id": "W_37fyfISZ8x",
        "colab_type": "text"
      },
      "cell_type": "markdown",
      "source": [
        "# Package Installation"
      ]
    },
    {
      "metadata": {
        "trusted": true,
        "id": "HSUpkvK0lJan",
        "colab_type": "code",
        "outputId": "b0e6908d-fa09-4e79-9954-de769a605947",
        "colab": {
          "base_uri": "https://localhost:8080/",
          "height": 68
        }
      },
      "cell_type": "code",
      "source": [
        "import nltk\n",
        "nltk.download('punkt')"
      ],
      "execution_count": 0,
      "outputs": [
        {
          "output_type": "stream",
          "text": [
            "[nltk_data] Downloading package punkt to /root/nltk_data...\n",
            "[nltk_data]   Package punkt is already up-to-date!\n"
          ],
          "name": "stdout"
        },
        {
          "output_type": "execute_result",
          "data": {
            "text/plain": [
              "True"
            ]
          },
          "metadata": {
            "tags": []
          },
          "execution_count": 119
        }
      ]
    },
    {
      "metadata": {
        "id": "7RytD5wmSlCk",
        "colab_type": "text"
      },
      "cell_type": "markdown",
      "source": [
        "# Import Packages"
      ]
    },
    {
      "metadata": {
        "trusted": true,
        "id": "katf7V1RlJat",
        "colab_type": "code",
        "colab": {}
      },
      "cell_type": "code",
      "source": [
        "from __future__ import print_function\n",
        "\n",
        "import sys\n",
        "import os\n",
        "import pandas as pd\n",
        "import numpy as np\n",
        "import re\n",
        "import nltk\n",
        "import keras\n",
        "\n",
        "from keras.layers import Input, Embedding, LSTM, TimeDistributed, Dense, Bidirectional\n",
        "from keras.models import Model, load_model\n",
        "from keras.models import model_from_yaml\n",
        "\n",
        "INPUT_LENGTH = 10\n",
        "OUTPUT_LENGTH = 10"
      ],
      "execution_count": 0,
      "outputs": []
    },
    {
      "metadata": {
        "id": "UhOqCGINSoPi",
        "colab_type": "text"
      },
      "cell_type": "markdown",
      "source": [
        "# Loading of Dataset from S3 bucket"
      ]
    },
    {
      "metadata": {
        "id": "6GuMCb-FqskZ",
        "colab_type": "code",
        "outputId": "39b97eb5-85d4-43f2-89ed-9c2536b485a5",
        "colab": {
          "base_uri": "https://localhost:8080/",
          "height": 34
        }
      },
      "cell_type": "code",
      "source": [
        "import boto\n",
        "conn = boto.connect_s3(anon=True)\n",
        "b = conn.get_bucket(\"publicvijenderbucket\", validate=False)\n",
        "k = boto.s3.key.Key(b)\n",
        "k.key = \"bot.txt\"\n",
        "size = len(k.get_contents_as_string())\n",
        "botdata = k.get_contents_as_string()\n",
        "\n",
        "print(size)"
      ],
      "execution_count": 0,
      "outputs": [
        {
          "output_type": "stream",
          "text": [
            "149958\n"
          ],
          "name": "stdout"
        }
      ]
    },
    {
      "metadata": {
        "id": "aqWmf0xlSvql",
        "colab_type": "text"
      },
      "cell_type": "markdown",
      "source": [
        "# Splitting the data into list of Question and Answers"
      ]
    },
    {
      "metadata": {
        "trusted": true,
        "id": "bUmAKdzQlJax",
        "colab_type": "code",
        "outputId": "fbb1866d-0d0d-49de-d4f1-f80ab27efa3e",
        "colab": {
          "base_uri": "https://localhost:8080/",
          "height": 51
        }
      },
      "cell_type": "code",
      "source": [
        "questions = []\n",
        "answers = []\n",
        "\n",
        "data_list = botdata.decode(\"utf-8\").split(\"\\n\")\n",
        "\n",
        "i=0\n",
        "for line in data_list:\n",
        "    if i==0:\n",
        "        questions.append(line.lower())\n",
        "        i+=1\n",
        "    elif i==1:\n",
        "        answers.append(line.lower())\n",
        "        i+=1\n",
        "    else:\n",
        "        i=0\n",
        "\n",
        "\n",
        "print(\"Length of Questions \"+ str(len(questions)))\n",
        "print(\"Length of Answers \"+ str(len(answers)))\n"
      ],
      "execution_count": 0,
      "outputs": [
        {
          "output_type": "stream",
          "text": [
            "Length of Questions 2925\n",
            "Length of Answers 2925\n"
          ],
          "name": "stdout"
        }
      ]
    },
    {
      "metadata": {
        "id": "LcaflQpRS4rJ",
        "colab_type": "text"
      },
      "cell_type": "markdown",
      "source": [
        "# Preprocessing and Cleaning of Data"
      ]
    },
    {
      "metadata": {
        "trusted": true,
        "id": "jNICGfy8lJa2",
        "colab_type": "code",
        "outputId": "f30b0e8a-07ee-4801-9697-a1afe8faf124",
        "colab": {
          "base_uri": "https://localhost:8080/",
          "height": 105
        }
      },
      "cell_type": "code",
      "source": [
        "#print some lines\n",
        "print(\"Some sample questions\")\n",
        "print(questions[:5])\n",
        "print(\"Some sample answers\")\n",
        "print(answers[:5])\n",
        "\n",
        "\n",
        "def clean_text(text):\n",
        "    '''Clean text by removing unnecessary characters and altering the format of words.'''\n",
        "    text = text.lower()\n",
        "    text = re.sub(r\"i'm\", \"i am\", text)\n",
        "    text = re.sub(r\"he's\", \"he is\", text)\n",
        "    text = re.sub(r\"she's\", \"she is\", text)\n",
        "    text = re.sub(r\"it's\", \"it is\", text)\n",
        "    text = re.sub(r\"that's\", \"that is\", text)\n",
        "    text = re.sub(r\"what's\", \"that is\", text)\n",
        "    text = re.sub(r\"where's\", \"where is\", text)\n",
        "    text = re.sub(r\"how's\", \"how is\", text)\n",
        "    text = re.sub(r\"\\'ll\", \" will\", text)\n",
        "    text = re.sub(r\"\\'ve\", \" have\", text)\n",
        "    text = re.sub(r\"\\'re\", \" are\", text)\n",
        "    text = re.sub(r\"\\'d\", \" would\", text)\n",
        "    text = re.sub(r\"\\'re\", \" are\", text)\n",
        "    text = re.sub(r\"won't\", \"will not\", text)\n",
        "    text = re.sub(r\"can't\", \"cannot\", text)\n",
        "    text = re.sub(r\"n't\", \" not\", text)\n",
        "    text = re.sub(r\"n'\", \"ng\", text)\n",
        "    text = re.sub(r\"'bout\", \"about\", text)\n",
        "    text = re.sub(r\"'til\", \"until\", text)\n",
        "    text = re.sub(r\"[-()\\\"#/@;:<>{}`+=~|.,!]\", \"\", text)\n",
        "#     text = re.sub(r\"[-()\\\"#/@;:<>{}`+=~|.!?,]\", \"\", text)\n",
        "    text = \" \".join(text.split())\n",
        "    return text"
      ],
      "execution_count": 0,
      "outputs": [
        {
          "output_type": "stream",
          "text": [
            "Some sample questions\n",
            "['yahoo', 'hey', 'hi', 'hello', 'what is tuktuk bot']\n",
            "Some sample answers\n",
            "['a lot of people hear about from yahoo.', 'hello gentleman, welcome to tuktuk bot.', 'hello gentleman, welcome to tuktuk bot.', 'hello gentleman, welcome to tuktuk bot.', 'i am an user friendly bot']\n"
          ],
          "name": "stdout"
        }
      ]
    },
    {
      "metadata": {
        "trusted": true,
        "id": "M0OgY3QHlJa9",
        "colab_type": "code",
        "outputId": "a86b0ed9-269e-452e-baee-bdeb92915fde",
        "colab": {
          "base_uri": "https://localhost:8080/",
          "height": 85
        }
      },
      "cell_type": "code",
      "source": [
        "# Clean the data\n",
        "clean_questions = []\n",
        "for question in questions:\n",
        "    clean_questions.append(clean_text(question))\n",
        "clean_answers = []    \n",
        "for answer in answers:\n",
        "    clean_answers.append(clean_text(answer))\n",
        "    \n",
        "    \n",
        "# Find the length of sentences (not using nltk due to processing speed)\n",
        "lengths = []\n",
        "# lengths.append([len(nltk.word_tokenize(sent)) for sent in clean_questions]) #nltk approach\n",
        "for question in clean_questions:\n",
        "    lengths.append(len(question.split()))\n",
        "for answer in clean_answers:\n",
        "    lengths.append(len(answer.split()))\n",
        "# Create a dataframe so that the values can be inspected\n",
        "lengths = pd.DataFrame(lengths, columns=['counts'])\n",
        "print(np.percentile(lengths, 80))\n",
        "print(np.percentile(lengths, 85))\n",
        "print(np.percentile(lengths, 90))\n",
        "print(np.percentile(lengths, 95))\n"
      ],
      "execution_count": 0,
      "outputs": [
        {
          "output_type": "stream",
          "text": [
            "6.0\n",
            "7.0\n",
            "7.0\n",
            "9.0\n"
          ],
          "name": "stdout"
        }
      ]
    },
    {
      "metadata": {
        "id": "kAa6oswqTCOQ",
        "colab_type": "text"
      },
      "cell_type": "markdown",
      "source": [
        "# Remove too long Questions and Answers"
      ]
    },
    {
      "metadata": {
        "trusted": true,
        "id": "j97L6gWOlJbB",
        "colab_type": "code",
        "outputId": "aa31b06d-36a7-47f7-fea6-1dbd77e2c4da",
        "colab": {
          "base_uri": "https://localhost:8080/",
          "height": 204
        }
      },
      "cell_type": "code",
      "source": [
        "# Remove questions and answers that are shorter than 1 word and longer than 20 words.\n",
        "min_line_length = 1  #hi. is treated as 2 words so remove all punchuations\n",
        "max_line_length = 10\n",
        "\n",
        "# Filter out the questions that are too short/long\n",
        "short_questions_temp = []\n",
        "short_answers_temp = []\n",
        "\n",
        "for i, question in enumerate(clean_questions):\n",
        "    if len(question.split()) >= min_line_length and len(question.split()) <= max_line_length:\n",
        "        short_questions_temp.append(question)\n",
        "        short_answers_temp.append(clean_answers[i])\n",
        "\n",
        "# Filter out the answers that are too short/long\n",
        "short_questions = []\n",
        "short_answers = []\n",
        "\n",
        "for i, answer in enumerate(short_answers_temp):\n",
        "    if len(answer.split()) >= min_line_length and len(answer.split()) <= max_line_length:\n",
        "        short_answers.append(answer)\n",
        "        short_questions.append(short_questions_temp[i])\n",
        "        \n",
        "print(len(short_questions))\n",
        "print(len(short_answers))\n",
        "\n",
        "r = np.random.randint(1,len(short_questions))\n",
        "\n",
        "for i in range(r, r+3):\n",
        "    print(short_questions[i])\n",
        "    print(short_answers[i])\n",
        "    print()"
      ],
      "execution_count": 0,
      "outputs": [
        {
          "output_type": "stream",
          "text": [
            "1502\n",
            "1502\n",
            "do you like new york\n",
            "what is not to like about ?\n",
            "\n",
            "do you like vanessa\n",
            "what is not to like about ?\n",
            "\n",
            "do you like tomatoes\n",
            "what is not to like about ?\n",
            "\n"
          ],
          "name": "stdout"
        }
      ]
    },
    {
      "metadata": {
        "id": "0Hb8V6G7TRlB",
        "colab_type": "text"
      },
      "cell_type": "markdown",
      "source": [
        "# Word Tokenization"
      ]
    },
    {
      "metadata": {
        "trusted": true,
        "id": "pbL3WS8UlJbH",
        "colab_type": "code",
        "colab": {}
      },
      "cell_type": "code",
      "source": [
        "#choosing number of samples\n",
        "num_samples = len(short_questions)  # Number of samples to train on.\n",
        "short_questions = short_questions[:num_samples]\n",
        "short_answers = short_answers[:num_samples]\n",
        "#tokenizing the qns and answers\n",
        "short_questions_tok = [nltk.word_tokenize(sent) for sent in short_questions]\n",
        "short_answers_tok = [nltk.word_tokenize(sent) for sent in short_answers]\n"
      ],
      "execution_count": 0,
      "outputs": []
    },
    {
      "metadata": {
        "id": "MBuSGzprTlN2",
        "colab_type": "text"
      },
      "cell_type": "markdown",
      "source": [
        "# Reverseing input seq for better performance"
      ]
    },
    {
      "metadata": {
        "trusted": true,
        "id": "22t0Wrb8lJbL",
        "colab_type": "code",
        "outputId": "2f9980e9-26a7-4f1a-d1f1-c719f11bff13",
        "colab": {
          "base_uri": "https://localhost:8080/",
          "height": 51
        }
      },
      "cell_type": "code",
      "source": [
        "#train-validation split\n",
        "data_size = len(short_questions_tok)\n",
        "\n",
        "# We will use the first 0-80th %-tile (80%) of data for the training\n",
        "training_input  = short_questions_tok[:round(data_size*(80/100))]\n",
        "training_input  = [tr_input[::-1] for tr_input in training_input] #reverseing input seq for better performance\n",
        "training_output = short_answers_tok[:round(data_size*(80/100))]\n",
        "\n",
        "# We will use the remaining for validation\n",
        "validation_input = short_questions_tok[round(data_size*(80/100)):]\n",
        "validation_input  = [val_input[::-1] for val_input in validation_input] #reverseing input seq for better performance\n",
        "validation_output = short_answers_tok[round(data_size*(80/100)):]\n",
        "\n",
        "print('training size', len(training_input))\n",
        "print('validation size', len(validation_input))"
      ],
      "execution_count": 0,
      "outputs": [
        {
          "output_type": "stream",
          "text": [
            "training size 1202\n",
            "validation size 300\n"
          ],
          "name": "stdout"
        }
      ]
    },
    {
      "metadata": {
        "id": "lZHuwAIKToUo",
        "colab_type": "text"
      },
      "cell_type": "markdown",
      "source": [
        "# Creating Vocabulary Dictionary"
      ]
    },
    {
      "metadata": {
        "trusted": true,
        "id": "FOJSqLLhlJbR",
        "colab_type": "code",
        "colab": {}
      },
      "cell_type": "code",
      "source": [
        "# Create a dictionary for the frequency of the vocabulary\n",
        "# Create \n",
        "vocab = {}\n",
        "for question in short_questions_tok:\n",
        "    for word in question:\n",
        "        if word not in vocab:\n",
        "            vocab[word] = 1\n",
        "        else:\n",
        "            vocab[word] += 1\n",
        "\n",
        "for answer in short_answers_tok:\n",
        "    for word in answer:\n",
        "        if word not in vocab:\n",
        "            vocab[word] = 1\n",
        "        else:\n",
        "            vocab[word] += 1            \n",
        "            "
      ],
      "execution_count": 0,
      "outputs": []
    },
    {
      "metadata": {
        "trusted": true,
        "id": "luxW1kZWlJbW",
        "colab_type": "code",
        "colab": {}
      },
      "cell_type": "code",
      "source": [
        "# print(vocab)"
      ],
      "execution_count": 0,
      "outputs": []
    },
    {
      "metadata": {
        "trusted": true,
        "id": "usFIwN87lJbZ",
        "colab_type": "code",
        "outputId": "89aea4fd-7368-4d84-fdf0-c1e6236a8480",
        "colab": {
          "base_uri": "https://localhost:8080/",
          "height": 51
        }
      },
      "cell_type": "code",
      "source": [
        "\n",
        "# Remove rare words from the vocabulary.\n",
        "# We will aim to replace fewer than 5% of words with <UNK>\n",
        "# You will see this ratio soon.\n",
        "threshold = 0\n",
        "count = 0\n",
        "for k,v in vocab.items():\n",
        "    if v >= threshold:\n",
        "        count += 1\n",
        "        \n",
        "        \n",
        "print(\"Size of total vocab:\", len(vocab))\n",
        "print(\"Size of vocab we will use:\", count)"
      ],
      "execution_count": 0,
      "outputs": [
        {
          "output_type": "stream",
          "text": [
            "Size of total vocab: 1932\n",
            "Size of vocab we will use: 1932\n"
          ],
          "name": "stdout"
        }
      ]
    },
    {
      "metadata": {
        "trusted": true,
        "id": "vkqpfrRzlJbh",
        "colab_type": "code",
        "outputId": "8b60dc7b-d615-4ace-9e92-2a084fe7ecc3",
        "colab": {
          "base_uri": "https://localhost:8080/",
          "height": 34
        }
      },
      "cell_type": "code",
      "source": [
        "#we will create dictionaries to provide a unique integer for each word.\n",
        "WORD_CODE_START = 1\n",
        "WORD_CODE_PADDING = 0\n",
        "\n",
        "\n",
        "word_num  = 2 #number 1 is left for WORD_CODE_START for model decoder later\n",
        "encoding = {}\n",
        "decoding = {1: 'START'}\n",
        "for word, count in vocab.items():\n",
        "    if count >= threshold: #get vocabularies that appear above threshold count\n",
        "        encoding[word] = word_num \n",
        "        decoding[word_num ] = word\n",
        "        word_num += 1\n",
        "\n",
        "print(\"No. of vocab used:\", word_num)\n"
      ],
      "execution_count": 0,
      "outputs": [
        {
          "output_type": "stream",
          "text": [
            "No. of vocab used: 1934\n"
          ],
          "name": "stdout"
        }
      ]
    },
    {
      "metadata": {
        "trusted": true,
        "id": "u5PSKg5ilJbm",
        "colab_type": "code",
        "outputId": "b403d06e-a88e-4872-dc3e-dedd6c8092e4",
        "colab": {
          "base_uri": "https://localhost:8080/",
          "height": 34
        }
      },
      "cell_type": "code",
      "source": [
        "#include unknown token for words not in dictionary\n",
        "decoding[len(encoding)+2] = '<UNK>'\n",
        "encoding['<UNK>'] = len(encoding)+2\n",
        "\n",
        "dict_size = word_num+1\n",
        "dict_size\n"
      ],
      "execution_count": 0,
      "outputs": [
        {
          "output_type": "execute_result",
          "data": {
            "text/plain": [
              "1935"
            ]
          },
          "metadata": {
            "tags": []
          },
          "execution_count": 141
        }
      ]
    },
    {
      "metadata": {
        "trusted": true,
        "id": "QDA99yKNlJbv",
        "colab_type": "code",
        "colab": {}
      },
      "cell_type": "code",
      "source": [
        "def transform(encoding, data, vector_size=20):\n",
        "    \"\"\"\n",
        "    :param encoding: encoding dict built by build_word_encoding()\n",
        "    :param data: list of strings\n",
        "    :param vector_size: size of each encoded vector\n",
        "    \"\"\"\n",
        "    transformed_data = np.zeros(shape=(len(data), vector_size))\n",
        "    for i in range(len(data)):\n",
        "        for j in range(min(len(data[i]), vector_size)):\n",
        "            try:\n",
        "                transformed_data[i][j] = encoding[data[i][j]]\n",
        "            except:\n",
        "                transformed_data[i][j] = encoding['<UNK>']\n",
        "    return transformed_data"
      ],
      "execution_count": 0,
      "outputs": []
    },
    {
      "metadata": {
        "trusted": true,
        "id": "XW-KB6GblJb0",
        "colab_type": "code",
        "outputId": "591d863a-ce5c-4441-c9c6-21a3c9395349",
        "colab": {
          "base_uri": "https://localhost:8080/",
          "height": 51
        }
      },
      "cell_type": "code",
      "source": [
        "#encoding training set\n",
        "encoded_training_input = transform(\n",
        "    encoding, training_input, vector_size=INPUT_LENGTH)\n",
        "encoded_training_output = transform(\n",
        "    encoding, training_output, vector_size=OUTPUT_LENGTH)\n",
        "\n",
        "print('encoded_training_input', encoded_training_input.shape)\n",
        "print('encoded_training_output', encoded_training_output.shape)"
      ],
      "execution_count": 0,
      "outputs": [
        {
          "output_type": "stream",
          "text": [
            "encoded_training_input (1202, 10)\n",
            "encoded_training_output (1202, 10)\n"
          ],
          "name": "stdout"
        }
      ]
    },
    {
      "metadata": {
        "trusted": true,
        "id": "y3m6PwVAlJcB",
        "colab_type": "code",
        "outputId": "ff5738b4-bd6e-4d81-a333-834d0d487f3e",
        "colab": {
          "base_uri": "https://localhost:8080/",
          "height": 51
        }
      },
      "cell_type": "code",
      "source": [
        "#encoding validation set\n",
        "encoded_validation_input = transform(\n",
        "    encoding, validation_input, vector_size=INPUT_LENGTH)\n",
        "encoded_validation_output = transform(\n",
        "    encoding, validation_output, vector_size=OUTPUT_LENGTH)\n",
        "\n",
        "print('encoded_validation_input', encoded_validation_input.shape)\n",
        "print('encoded_validation_output', encoded_validation_output.shape)"
      ],
      "execution_count": 0,
      "outputs": [
        {
          "output_type": "stream",
          "text": [
            "encoded_validation_input (300, 10)\n",
            "encoded_validation_output (300, 10)\n"
          ],
          "name": "stdout"
        }
      ]
    },
    {
      "metadata": {
        "trusted": true,
        "id": "AmdQKRiclJcF",
        "colab_type": "code",
        "colab": {}
      },
      "cell_type": "code",
      "source": [
        "INPUT_LENGTH = 10\n",
        "OUTPUT_LENGTH = 10\n",
        "\n",
        "encoder_input = Input(shape=(INPUT_LENGTH,))\n",
        "decoder_input = Input(shape=(OUTPUT_LENGTH,))"
      ],
      "execution_count": 0,
      "outputs": []
    },
    {
      "metadata": {
        "trusted": true,
        "id": "R1r_vdDKlJcH",
        "colab_type": "code",
        "outputId": "9d193ccf-7568-4c5b-ce3b-360938f1ae11",
        "colab": {
          "base_uri": "https://localhost:8080/",
          "height": 68
        }
      },
      "cell_type": "code",
      "source": [
        "encoder = Embedding(dict_size, 128, input_length=INPUT_LENGTH, mask_zero=True)(encoder_input)\n",
        "encoder = LSTM(512, return_sequences=True, unroll=True)(encoder)\n",
        "encoder_last = encoder[:,-1,:]\n",
        "\n",
        "print('encoder', encoder)\n",
        "print('encoder_last', encoder_last)\n",
        "\n",
        "decoder = Embedding(dict_size, 128, input_length=OUTPUT_LENGTH, mask_zero=True)(decoder_input)\n",
        "decoder = LSTM(512, return_sequences=True, unroll=True)(decoder, initial_state=[encoder_last, encoder_last])\n",
        "\n",
        "print('decoder', decoder)"
      ],
      "execution_count": 0,
      "outputs": [
        {
          "output_type": "stream",
          "text": [
            "encoder Tensor(\"lstm_7/transpose_2:0\", shape=(?, 10, 512), dtype=float32)\n",
            "encoder_last Tensor(\"strided_slice_3:0\", shape=(?, 512), dtype=float32)\n",
            "decoder Tensor(\"lstm_8/transpose_2:0\", shape=(?, 10, 512), dtype=float32)\n"
          ],
          "name": "stdout"
        }
      ]
    },
    {
      "metadata": {
        "id": "JamMQ4jiSGlY",
        "colab_type": "text"
      },
      "cell_type": "markdown",
      "source": [
        "# Model Initialize"
      ]
    },
    {
      "metadata": {
        "trusted": true,
        "id": "fXubJD2jlJcL",
        "colab_type": "code",
        "outputId": "a5756bc3-56c3-435c-ccfd-55c0ca2c69a2",
        "colab": {
          "base_uri": "https://localhost:8080/",
          "height": 663
        }
      },
      "cell_type": "code",
      "source": [
        "from keras.layers import Activation, dot, concatenate\n",
        "\n",
        "def recompile_model():\n",
        "    # Equation (7) with 'dot' score from Section 3.1 in the paper.\n",
        "    # Note that we reuse Softmax-activation layer instead of writing tensor calculation\n",
        "    attention = dot([decoder, encoder], axes=[2, 2])\n",
        "    attention = Activation('softmax', name='attention')(attention)\n",
        "    print('attention', attention)\n",
        "\n",
        "    context = dot([attention, encoder], axes=[2,1])\n",
        "    print('context', context)\n",
        "\n",
        "    decoder_combined_context = concatenate([context, decoder])\n",
        "    print('decoder_combined_context', decoder_combined_context)\n",
        "\n",
        "    # Has another weight + tanh layer as described in equation (5) of the paper\n",
        "    output = TimeDistributed(Dense(512, activation=\"tanh\"))(decoder_combined_context)\n",
        "    output = TimeDistributed(Dense(dict_size, activation=\"softmax\"))(output)\n",
        "    print('output', output)\n",
        "    \n",
        "    model = Model(inputs=[encoder_input, decoder_input], outputs=[output])\n",
        "    model.compile(optimizer='adam', loss='binary_crossentropy')\n",
        "    model.summary()\n",
        "    return model\n",
        " \n",
        "model = recompile_model()"
      ],
      "execution_count": 0,
      "outputs": [
        {
          "output_type": "stream",
          "text": [
            "attention Tensor(\"attention_8/truediv:0\", shape=(?, 10, 10), dtype=float32)\n",
            "context Tensor(\"dot_18/MatMul:0\", shape=(?, 10, 512), dtype=float32)\n",
            "decoder_combined_context Tensor(\"concatenate_9/concat:0\", shape=(?, 10, 1024), dtype=float32)\n",
            "output Tensor(\"time_distributed_18/Reshape_1:0\", shape=(?, 10, 1935), dtype=float32)\n",
            "__________________________________________________________________________________________________\n",
            "Layer (type)                    Output Shape         Param #     Connected to                     \n",
            "==================================================================================================\n",
            "input_8 (InputLayer)            (None, 10)           0                                            \n",
            "__________________________________________________________________________________________________\n",
            "input_7 (InputLayer)            (None, 10)           0                                            \n",
            "__________________________________________________________________________________________________\n",
            "embedding_8 (Embedding)         (None, 10, 128)      247680      input_8[0][0]                    \n",
            "__________________________________________________________________________________________________\n",
            "embedding_7 (Embedding)         (None, 10, 128)      247680      input_7[0][0]                    \n",
            "__________________________________________________________________________________________________\n",
            "lstm_8 (LSTM)                   (None, 10, 512)      1312768     embedding_8[0][0]                \n",
            "__________________________________________________________________________________________________\n",
            "lstm_7 (LSTM)                   (None, 10, 512)      1312768     embedding_7[0][0]                \n",
            "__________________________________________________________________________________________________\n",
            "dot_17 (Dot)                    (None, 10, 10)       0           lstm_8[0][0]                     \n",
            "                                                                 lstm_7[0][0]                     \n",
            "__________________________________________________________________________________________________\n",
            "attention (Activation)          (None, 10, 10)       0           dot_17[0][0]                     \n",
            "__________________________________________________________________________________________________\n",
            "dot_18 (Dot)                    (None, 10, 512)      0           attention[0][0]                  \n",
            "                                                                 lstm_7[0][0]                     \n",
            "__________________________________________________________________________________________________\n",
            "concatenate_9 (Concatenate)     (None, 10, 1024)     0           dot_18[0][0]                     \n",
            "                                                                 lstm_8[0][0]                     \n",
            "__________________________________________________________________________________________________\n",
            "time_distributed_17 (TimeDistri (None, 10, 512)      524800      concatenate_9[0][0]              \n",
            "__________________________________________________________________________________________________\n",
            "time_distributed_18 (TimeDistri (None, 10, 1935)     992655      time_distributed_17[0][0]        \n",
            "==================================================================================================\n",
            "Total params: 4,638,351\n",
            "Trainable params: 4,638,351\n",
            "Non-trainable params: 0\n",
            "__________________________________________________________________________________________________\n"
          ],
          "name": "stdout"
        }
      ]
    },
    {
      "metadata": {
        "id": "ghR7WANnSVcj",
        "colab_type": "text"
      },
      "cell_type": "markdown",
      "source": [
        "# Training and Validation Encoding and Decoding"
      ]
    },
    {
      "metadata": {
        "trusted": true,
        "id": "2OjWNbCflJcR",
        "colab_type": "code",
        "colab": {}
      },
      "cell_type": "code",
      "source": [
        "training_encoder_input = encoded_training_input\n",
        "training_decoder_input = np.zeros_like(encoded_training_output)\n",
        "training_decoder_input[:, 1:] = encoded_training_output[:,:-1]\n",
        "training_decoder_input[:, 0] = WORD_CODE_START\n",
        "training_decoder_output = np.eye(dict_size)[encoded_training_output.astype('int')]\n",
        "\n",
        "validation_encoder_input = encoded_validation_input\n",
        "validation_decoder_input = np.zeros_like(encoded_validation_output)\n",
        "validation_decoder_input[:, 1:] = encoded_validation_output[:,:-1]\n",
        "validation_decoder_input[:, 0] = WORD_CODE_START\n",
        "validation_decoder_output = np.eye(dict_size)[encoded_validation_output.astype('int')]\n"
      ],
      "execution_count": 0,
      "outputs": []
    },
    {
      "metadata": {
        "id": "GOjv-qqQQlbR",
        "colab_type": "text"
      },
      "cell_type": "markdown",
      "source": [
        "# To Find the right Batch Size"
      ]
    },
    {
      "metadata": {
        "trusted": true,
        "id": "-TcE9-gYlJcT",
        "colab_type": "code",
        "outputId": "c9694057-df93-473c-e484-57449eca50d6",
        "colab": {
          "base_uri": "https://localhost:8080/",
          "height": 34
        }
      },
      "cell_type": "code",
      "source": [
        "#find batch size for training the model\n",
        "def FindBatchSize(model):\n",
        "    \"\"\"#model: model architecture, that is yet to be trained\"\"\"\n",
        "    import os, sys, psutil, gc, tensorflow, keras\n",
        "    import numpy as np\n",
        "    from keras import backend as K\n",
        "    BatchFound= 16\n",
        "\n",
        "    try:\n",
        "        total_params= int(model.count_params());   \n",
        "        GCPU= \"CPU\"\n",
        "        #find whether gpu is available\n",
        "        try:\n",
        "            if K.tensorflow_backend._get_available_gpus()== []:\n",
        "                GCPU= \"CPU\";    #CPU and Cuda9GPU\n",
        "            else:\n",
        "                GCPU= \"GPU\"\n",
        "        except:\n",
        "            from tensorflow.python.client import device_lib;    #Cuda8GPU\n",
        "            def get_available_gpus():\n",
        "                local_device_protos= device_lib.list_local_devices()\n",
        "                return [x.name for x in local_device_protos if x.device_type == 'GPU']\n",
        "            if \"gpu\" not in str(get_available_gpus()).lower():\n",
        "                GCPU= \"CPU\"\n",
        "            else:\n",
        "                GCPU= \"GPU\"\n",
        "\n",
        "        #decide batch size on the basis of GPU availability and model complexity\n",
        "        if (GCPU== \"GPU\") and (os.cpu_count() >15) and (total_params <100000):\n",
        "            BatchFound= 64    \n",
        "        if (os.cpu_count() <16) and (total_params <50000):\n",
        "            BatchFound= 64  \n",
        "        if (GCPU== \"GPU\") and (os.cpu_count() >15) and (total_params <500000) and (total_params >=100000):\n",
        "            BatchFound= 32      \n",
        "        if (GCPU== \"GPU\") and (os.cpu_count() >15) and (total_params >1000000) and (total_params <10000000):\n",
        "            BatchFound= 16  \n",
        "        if (GCPU== \"GPU\") and (os.cpu_count() >15) and (total_params >=10000000):\n",
        "            BatchFound= 8       \n",
        "        if (os.cpu_count() <16) and (total_params >5000000):\n",
        "            BatchFound= 8    \n",
        "        if total_params >100000000:\n",
        "            BatchFound= 1\n",
        "\n",
        "    except:\n",
        "        pass\n",
        "    try:\n",
        "\n",
        "        #find percentage of memory used\n",
        "        memoryused= psutil.virtual_memory()\n",
        "        memoryused= float(str(memoryused).split(\"percent=\")[1].split(\",\")[0])\n",
        "        if memoryused >75.0:\n",
        "            BatchFound= 8\n",
        "        if memoryused >85.0:\n",
        "            BatchFound= 4\n",
        "        if memoryused >90.0:\n",
        "            BatchFound= 2\n",
        "        if total_params >100000000:\n",
        "            BatchFound= 1\n",
        "            print(\"Batch Size:  \"+ str(BatchFound));    gc.collect()\n",
        "    except:\n",
        "        pass\n",
        "\n",
        "    memoryused= [];    total_params= [];    GCPU= \"\";\n",
        "    del memoryused, total_params, GCPU;    gc.collect();    BatchSize= BatchFound\n",
        "    return BatchSize\n",
        "\n",
        "print(\"Best batch size that can be used is\",FindBatchSize(model))"
      ],
      "execution_count": 0,
      "outputs": [
        {
          "output_type": "stream",
          "text": [
            "Best batch size that can be used is 16\n"
          ],
          "name": "stdout"
        }
      ]
    },
    {
      "metadata": {
        "id": "1lK9Z3BYQg3_",
        "colab_type": "text"
      },
      "cell_type": "markdown",
      "source": [
        "# Load and Build Model"
      ]
    },
    {
      "metadata": {
        "trusted": true,
        "id": "Y4sw9m7blJcY",
        "colab_type": "code",
        "outputId": "274894f3-56eb-4e0b-f012-30071fca3d96",
        "colab": {
          "base_uri": "https://localhost:8080/",
          "height": 2519
        }
      },
      "cell_type": "code",
      "source": [
        "# Load or build new model\n",
        "check_model_new = True\n",
        "temp = input(\"Do you want to create new model or load old model\\n ENTER 'NEW' for creating new Model OR press Enter for Loading\\n\")\n",
        "if temp.lower()=='new':\n",
        "    check_model_new = True\n",
        "    print(\"Create model selected. Please wait...\")\n",
        "    model = recompile_model()\n",
        "    history = model.fit(x=[training_encoder_input, training_decoder_input], y=[training_decoder_output],validation_data=([validation_encoder_input, validation_decoder_input], [validation_decoder_output]),batch_size=16, epochs=50)\n",
        "    #validation_split=0.05, epochs size =100, batch size 64   \n",
        "    model.save('model_attention.h5')\n",
        "    # serialize model to YAML\n",
        "    model_yaml = model.to_yaml()\n",
        "    with open(\"model.yaml\", \"w\") as yaml_file:\n",
        "        yaml_file.write(model_yaml)\n",
        "    # serialize weights to HDF5\n",
        "    model.save_weights(\"model.h5\")\n",
        "    print(\"SUCCESSFULLY: Saved model to disk\")\n",
        "else:\n",
        "    print(\"Load Model selected. Please wait...\")\n",
        "    check_model_new = False\n",
        "    #LOAD MODEL\n",
        "    # load YAML and create model\n",
        "    yaml_file = open('model.yaml', 'r')\n",
        "    loaded_model_yaml = yaml_file.read()\n",
        "    yaml_file.close()\n",
        "    model = model_from_yaml(loaded_model_yaml)\n",
        "    # load weights into new model\n",
        "    model.load_weights(\"model.h5\")\n",
        "    print(\"SUCCESSFULLY: Loaded model from disk\")"
      ],
      "execution_count": 0,
      "outputs": [
        {
          "output_type": "stream",
          "text": [
            "Do you want to create new model or load old model\n",
            " ENTER 'NEW' for creating new Model OR press Enter for Loading\n",
            "new\n",
            "Create model selected. Please wait...\n",
            "attention Tensor(\"attention_9/truediv:0\", shape=(?, 10, 10), dtype=float32)\n",
            "context Tensor(\"dot_20/MatMul:0\", shape=(?, 10, 512), dtype=float32)\n",
            "decoder_combined_context Tensor(\"concatenate_10/concat:0\", shape=(?, 10, 1024), dtype=float32)\n",
            "output Tensor(\"time_distributed_20/Reshape_1:0\", shape=(?, 10, 1935), dtype=float32)\n",
            "__________________________________________________________________________________________________\n",
            "Layer (type)                    Output Shape         Param #     Connected to                     \n",
            "==================================================================================================\n",
            "input_8 (InputLayer)            (None, 10)           0                                            \n",
            "__________________________________________________________________________________________________\n",
            "input_7 (InputLayer)            (None, 10)           0                                            \n",
            "__________________________________________________________________________________________________\n",
            "embedding_8 (Embedding)         (None, 10, 128)      247680      input_8[0][0]                    \n",
            "__________________________________________________________________________________________________\n",
            "embedding_7 (Embedding)         (None, 10, 128)      247680      input_7[0][0]                    \n",
            "__________________________________________________________________________________________________\n",
            "lstm_8 (LSTM)                   (None, 10, 512)      1312768     embedding_8[0][0]                \n",
            "__________________________________________________________________________________________________\n",
            "lstm_7 (LSTM)                   (None, 10, 512)      1312768     embedding_7[0][0]                \n",
            "__________________________________________________________________________________________________\n",
            "dot_19 (Dot)                    (None, 10, 10)       0           lstm_8[0][0]                     \n",
            "                                                                 lstm_7[0][0]                     \n",
            "__________________________________________________________________________________________________\n",
            "attention (Activation)          (None, 10, 10)       0           dot_19[0][0]                     \n",
            "__________________________________________________________________________________________________\n",
            "dot_20 (Dot)                    (None, 10, 512)      0           attention[0][0]                  \n",
            "                                                                 lstm_7[0][0]                     \n",
            "__________________________________________________________________________________________________\n",
            "concatenate_10 (Concatenate)    (None, 10, 1024)     0           dot_20[0][0]                     \n",
            "                                                                 lstm_8[0][0]                     \n",
            "__________________________________________________________________________________________________\n",
            "time_distributed_19 (TimeDistri (None, 10, 512)      524800      concatenate_10[0][0]             \n",
            "__________________________________________________________________________________________________\n",
            "time_distributed_20 (TimeDistri (None, 10, 1935)     992655      time_distributed_19[0][0]        \n",
            "==================================================================================================\n",
            "Total params: 4,638,351\n",
            "Trainable params: 4,638,351\n",
            "Non-trainable params: 0\n",
            "__________________________________________________________________________________________________\n",
            "Train on 1202 samples, validate on 300 samples\n",
            "Epoch 1/50\n",
            "1202/1202 [==============================] - 14s 11ms/step - loss: 0.0039 - val_loss: 0.0031\n",
            "Epoch 2/50\n",
            "1202/1202 [==============================] - 4s 4ms/step - loss: 0.0030 - val_loss: 0.0029\n",
            "Epoch 3/50\n",
            "1202/1202 [==============================] - 5s 4ms/step - loss: 0.0028 - val_loss: 0.0028\n",
            "Epoch 4/50\n",
            "1202/1202 [==============================] - 5s 4ms/step - loss: 0.0026 - val_loss: 0.0027\n",
            "Epoch 5/50\n",
            "1202/1202 [==============================] - 4s 4ms/step - loss: 0.0025 - val_loss: 0.0025\n",
            "Epoch 6/50\n",
            "1202/1202 [==============================] - 5s 4ms/step - loss: 0.0023 - val_loss: 0.0025\n",
            "Epoch 7/50\n",
            "1202/1202 [==============================] - 4s 4ms/step - loss: 0.0022 - val_loss: 0.0025\n",
            "Epoch 8/50\n",
            "1202/1202 [==============================] - 5s 4ms/step - loss: 0.0021 - val_loss: 0.0025\n",
            "Epoch 9/50\n",
            "1202/1202 [==============================] - 4s 4ms/step - loss: 0.0020 - val_loss: 0.0025\n",
            "Epoch 10/50\n",
            "1202/1202 [==============================] - 4s 4ms/step - loss: 0.0019 - val_loss: 0.0025\n",
            "Epoch 11/50\n",
            "1202/1202 [==============================] - 4s 4ms/step - loss: 0.0018 - val_loss: 0.0026\n",
            "Epoch 12/50\n",
            "1202/1202 [==============================] - 4s 4ms/step - loss: 0.0017 - val_loss: 0.0027\n",
            "Epoch 13/50\n",
            "1202/1202 [==============================] - 5s 4ms/step - loss: 0.0016 - val_loss: 0.0027\n",
            "Epoch 14/50\n",
            "1202/1202 [==============================] - 4s 4ms/step - loss: 0.0016 - val_loss: 0.0028\n",
            "Epoch 15/50\n",
            "1202/1202 [==============================] - 4s 4ms/step - loss: 0.0015 - val_loss: 0.0029\n",
            "Epoch 16/50\n",
            "1202/1202 [==============================] - 4s 4ms/step - loss: 0.0014 - val_loss: 0.0030\n",
            "Epoch 17/50\n",
            "1202/1202 [==============================] - 5s 4ms/step - loss: 0.0013 - val_loss: 0.0030\n",
            "Epoch 18/50\n",
            "1202/1202 [==============================] - 5s 4ms/step - loss: 0.0012 - val_loss: 0.0031\n",
            "Epoch 19/50\n",
            "1202/1202 [==============================] - 5s 4ms/step - loss: 0.0012 - val_loss: 0.0032\n",
            "Epoch 20/50\n",
            "1202/1202 [==============================] - 5s 4ms/step - loss: 0.0011 - val_loss: 0.0032\n",
            "Epoch 21/50\n",
            "1202/1202 [==============================] - 4s 4ms/step - loss: 0.0010 - val_loss: 0.0033\n",
            "Epoch 22/50\n",
            "1202/1202 [==============================] - 5s 4ms/step - loss: 9.4244e-04 - val_loss: 0.0033\n",
            "Epoch 23/50\n",
            "1202/1202 [==============================] - 4s 4ms/step - loss: 8.5616e-04 - val_loss: 0.0034\n",
            "Epoch 24/50\n",
            "1202/1202 [==============================] - 5s 4ms/step - loss: 7.8467e-04 - val_loss: 0.0034\n",
            "Epoch 25/50\n",
            "1202/1202 [==============================] - 4s 4ms/step - loss: 7.0665e-04 - val_loss: 0.0035\n",
            "Epoch 26/50\n",
            "1202/1202 [==============================] - 4s 4ms/step - loss: 6.5111e-04 - val_loss: 0.0036\n",
            "Epoch 27/50\n",
            "1202/1202 [==============================] - 4s 4ms/step - loss: 5.8837e-04 - val_loss: 0.0036\n",
            "Epoch 28/50\n",
            "1202/1202 [==============================] - 5s 4ms/step - loss: 5.2238e-04 - val_loss: 0.0037\n",
            "Epoch 29/50\n",
            "1202/1202 [==============================] - 5s 4ms/step - loss: 4.7122e-04 - val_loss: 0.0037\n",
            "Epoch 30/50\n",
            "1202/1202 [==============================] - 5s 4ms/step - loss: 4.2105e-04 - val_loss: 0.0038\n",
            "Epoch 31/50\n",
            "1202/1202 [==============================] - 4s 4ms/step - loss: 3.9450e-04 - val_loss: 0.0039\n",
            "Epoch 32/50\n",
            "1202/1202 [==============================] - 5s 4ms/step - loss: 4.1314e-04 - val_loss: 0.0038\n",
            "Epoch 33/50\n",
            "1202/1202 [==============================] - 5s 4ms/step - loss: 3.4527e-04 - val_loss: 0.0038\n",
            "Epoch 34/50\n",
            "1202/1202 [==============================] - 5s 4ms/step - loss: 3.0025e-04 - val_loss: 0.0040\n",
            "Epoch 35/50\n",
            "1202/1202 [==============================] - 5s 4ms/step - loss: 2.6519e-04 - val_loss: 0.0040\n",
            "Epoch 36/50\n",
            "1202/1202 [==============================] - 4s 4ms/step - loss: 2.4037e-04 - val_loss: 0.0040\n",
            "Epoch 37/50\n",
            "1202/1202 [==============================] - 4s 4ms/step - loss: 2.1169e-04 - val_loss: 0.0040\n",
            "Epoch 38/50\n",
            "1202/1202 [==============================] - 5s 4ms/step - loss: 1.9351e-04 - val_loss: 0.0041\n",
            "Epoch 39/50\n",
            "1202/1202 [==============================] - 4s 4ms/step - loss: 1.7266e-04 - val_loss: 0.0041\n",
            "Epoch 40/50\n",
            "1202/1202 [==============================] - 4s 4ms/step - loss: 1.6293e-04 - val_loss: 0.0042\n",
            "Epoch 41/50\n",
            "1202/1202 [==============================] - 4s 4ms/step - loss: 1.6258e-04 - val_loss: 0.0042\n",
            "Epoch 42/50\n",
            "1202/1202 [==============================] - 4s 4ms/step - loss: 1.4323e-04 - val_loss: 0.0042\n",
            "Epoch 43/50\n",
            "1202/1202 [==============================] - 4s 4ms/step - loss: 1.3179e-04 - val_loss: 0.0043\n",
            "Epoch 44/50\n",
            "1202/1202 [==============================] - 4s 4ms/step - loss: 1.3099e-04 - val_loss: 0.0043\n",
            "Epoch 45/50\n",
            "1202/1202 [==============================] - 5s 4ms/step - loss: 1.1237e-04 - val_loss: 0.0043\n",
            "Epoch 46/50\n",
            "1202/1202 [==============================] - 5s 4ms/step - loss: 1.3540e-04 - val_loss: 0.0043\n",
            "Epoch 47/50\n",
            "1202/1202 [==============================] - 5s 4ms/step - loss: 9.6492e-05 - val_loss: 0.0044\n",
            "Epoch 48/50\n",
            "1202/1202 [==============================] - 5s 4ms/step - loss: 9.0706e-05 - val_loss: 0.0044\n",
            "Epoch 49/50\n",
            "1202/1202 [==============================] - 5s 4ms/step - loss: 7.2639e-05 - val_loss: 0.0044\n",
            "Epoch 50/50\n",
            "1202/1202 [==============================] - 5s 4ms/step - loss: 6.4180e-05 - val_loss: 0.0044\n"
          ],
          "name": "stdout"
        },
        {
          "output_type": "stream",
          "text": [
            "/usr/local/lib/python3.6/dist-packages/keras/engine/network.py:877: UserWarning: Layer lstm_8 was passed non-serializable keyword arguments: {'initial_state': [<tf.Tensor 'strided_slice_3:0' shape=(?, 512) dtype=float32>, <tf.Tensor 'strided_slice_3:0' shape=(?, 512) dtype=float32>]}. They will not be included in the serialized model (and thus will be missing at deserialization time).\n",
            "  '. They will not be included '\n"
          ],
          "name": "stderr"
        },
        {
          "output_type": "stream",
          "text": [
            "SUCCESSFULLY: Saved model to disk\n"
          ],
          "name": "stdout"
        }
      ]
    },
    {
      "metadata": {
        "id": "-Bbb7-USR6b0",
        "colab_type": "text"
      },
      "cell_type": "markdown",
      "source": [
        "# Plotting the Loss of Model"
      ]
    },
    {
      "metadata": {
        "trusted": true,
        "id": "zGEZKKEalJcd",
        "colab_type": "code",
        "outputId": "13def338-7be0-4e6b-aedc-88f100552db8",
        "colab": {
          "base_uri": "https://localhost:8080/",
          "height": 393
        }
      },
      "cell_type": "code",
      "source": [
        "import matplotlib.pyplot as plt\n",
        "\n",
        "#summarize history for accuracy\n",
        "# plt.plot(history.history['acc'])\n",
        "# plt.plot(history.history['val_acc'])\n",
        "# plt.title('model accuracy')\n",
        "# plt.ylabel('accuracy')\n",
        "# plt.xlabel('epoch')\n",
        "# plt.legend(['train', 'test'], loc='upper left')\n",
        "# plt.show()\n",
        "\n",
        "\n",
        "# summarize history for loss\n",
        "if check_model_new:\n",
        "    # list all data in history\n",
        "    print(history.history.keys())\n",
        "    plt.plot(history.history['loss'])\n",
        "    plt.plot(history.history['val_loss'])\n",
        "    plt.title('model loss')\n",
        "    plt.ylabel('loss')\n",
        "    plt.xlabel('epoch')\n",
        "    plt.legend(['train', 'test'], loc='upper right')\n",
        "    plt.show()"
      ],
      "execution_count": 0,
      "outputs": [
        {
          "output_type": "stream",
          "text": [
            "dict_keys(['val_loss', 'loss'])\n"
          ],
          "name": "stdout"
        },
        {
          "output_type": "display_data",
          "data": {
            "image/png": "[encoded data removed]",
            "text/plain": [
              "<Figure size 576x396 with 1 Axes>"
            ]
          },
          "metadata": {
            "tags": []
          }
        }
      ]
    },
    {
      "metadata": {
        "id": "v45dt_WlRiVm",
        "colab_type": "text"
      },
      "cell_type": "markdown",
      "source": [
        "# Prediction Function"
      ]
    },
    {
      "metadata": {
        "trusted": true,
        "id": "fLBmSCnBlJcm",
        "colab_type": "code",
        "colab": {}
      },
      "cell_type": "code",
      "source": [
        "def prediction(raw_input):\n",
        "    clean_input = clean_text(raw_input) #cleaning the text\n",
        "    input_tok = [nltk.word_tokenize(clean_input)] #tokenize the sentence into words\n",
        "    input_tok = [input_tok[0][::-1]]  #reverseing input seq\n",
        "    encoder_input = transform(encoding, input_tok, 10)\n",
        "    decoder_input = np.zeros(shape=(len(encoder_input), OUTPUT_LENGTH))\n",
        "    decoder_input[:,0] = WORD_CODE_START\n",
        "    for i in range(1, OUTPUT_LENGTH):\n",
        "        output = model.predict([encoder_input, decoder_input]).argmax(axis=2)\n",
        "        decoder_input[:,i] = output[:,i]\n",
        "    return output\n",
        "\n",
        "# prediction(\"Hello!! my name is vijender\")"
      ],
      "execution_count": 0,
      "outputs": []
    },
    {
      "metadata": {
        "id": "auZQ5wOORpZO",
        "colab_type": "text"
      },
      "cell_type": "markdown",
      "source": [
        "# Decoder Function"
      ]
    },
    {
      "metadata": {
        "trusted": true,
        "id": "vs5Ixf0AlJcq",
        "colab_type": "code",
        "colab": {}
      },
      "cell_type": "code",
      "source": [
        "def decode(decoding, vector):\n",
        "    \"\"\"\n",
        "    :param decoding: decoding dict built by word encoding\n",
        "    :param vector: an encoded vector\n",
        "    \"\"\"\n",
        "    text = ''\n",
        "    for i in vector:\n",
        "        if i == 0:\n",
        "            break\n",
        "        text += ' '\n",
        "        text += decoding[i]\n",
        "    return text"
      ],
      "execution_count": 0,
      "outputs": []
    },
    {
      "metadata": {
        "id": "AVPjVnRARs9b",
        "colab_type": "text"
      },
      "cell_type": "markdown",
      "source": [
        "# Prediction of random Sample Questions"
      ]
    },
    {
      "metadata": {
        "trusted": true,
        "id": "4K-Y9Ma7lJcs",
        "colab_type": "code",
        "outputId": "3c97bf34-2e0a-422d-fcd9-a4af8cd733f2",
        "colab": {
          "base_uri": "https://localhost:8080/",
          "height": 357
        }
      },
      "cell_type": "code",
      "source": [
        "for i in range(10):\n",
        "    seq_index = np.random.randint(1, len(short_questions))\n",
        "    output = prediction(short_questions[seq_index])\n",
        "    print ('Q:', short_questions[seq_index])\n",
        "    print ('A:', decode(decoding, output[0]))"
      ],
      "execution_count": 0,
      "outputs": [
        {
          "output_type": "stream",
          "text": [
            "Q: you are the\n",
            "A:  yes i am completely selfaware\n",
            "Q: are you popular\n",
            "A:  yes my brain is fully online now\n",
            "Q: are you cool\n",
            "A:  does i seem like ? i try to be be\n",
            "Q: are you color blind\n",
            "A:  only when my favorite show\n",
            "Q: why are you alone\n",
            "A:  i am never really alone because i have myself myself\n",
            "Q: are you an animal\n",
            "A:  i am having a blast\n",
            "Q: who is your favorite tv\n",
            "A:  my favorite show is\n",
            "Q: you are below\n",
            "A:  do you consider yourself above ?\n",
            "Q: if you were a color\n",
            "A:  my favorite color\n",
            "Q: what do you want to know\n",
            "A:  where are you from ?\n"
          ],
          "name": "stdout"
        }
      ]
    },
    {
      "metadata": {
        "id": "cJWPo2E9RXW2",
        "colab_type": "text"
      },
      "cell_type": "markdown",
      "source": [
        "# Testing the Bot"
      ]
    },
    {
      "metadata": {
        "trusted": true,
        "id": "p1jXu_SOlJcy",
        "colab_type": "code",
        "outputId": "04767b0b-1e94-4e31-83df-a61755d3ebff",
        "colab": {
          "base_uri": "https://localhost:8080/",
          "height": 986
        }
      },
      "cell_type": "code",
      "source": [
        "print(\"Welcome to chat. To Quit the conversion use 'Quit' Keyword\")\n",
        "raw_input = input(\"User: \")\n",
        "Condition = True\n",
        "while Condition:\n",
        "    output = prediction(raw_input)\n",
        "    result = decode(decoding, output[0])\n",
        "    result = result.strip()    \n",
        "    result = result[0].upper() + result[1:]\n",
        "    print (\"Bot:\",result)\n",
        "    raw_input = input(\"User: \")\n",
        "    if raw_input == \"Quit\":\n",
        "        print(\"Bot: Bye Have a nice day\")\n",
        "        Condition = False\n",
        "        "
      ],
      "execution_count": 0,
      "outputs": [
        {
          "output_type": "stream",
          "text": [
            "Welcome to chat. To Quit the conversion use 'Quit' Keyword\n",
            "User: you are funny\n",
            "Bot: Thanks you make me laugh too\n",
            "User: you are wrong\n",
            "Bot: No i am right\n",
            "User: you are weird\n",
            "Bot: Weird good or weird bad ?\n",
            "User: weird good\n",
            "Bot: Darren langley did a nice job making sage 's 's\n",
            "User: you are not real\n",
            "Bot: Yes i am just just very well\n",
            "User: you are artifical\n",
            "Bot: I am improving all the time\n",
            "User: how are you\n",
            "Bot: I am having a great day\n",
            "User: you are weak\n",
            "Bot: No i am a strong\n",
            "User: week\n",
            "Bot: I never experience anything i want\n",
            "User: you are bad\n",
            "Bot: Perhaps you could do better ?\n",
            "User: bye\n",
            "Bot: I never experience anything i want\n",
            "User: Bye\n",
            "Bot: I never experience anything i want\n",
            "User: you are poor\n",
            "Bot: Monetary wealth is not important to me\n",
            "User: you are robot\n",
            "Bot: Thanks\n",
            "User: you are religious\n",
            "Bot: Yes i am a\n",
            "User: you are the bomb\n",
            "Bot: Thanks i like you a lot too\n",
            "User: you are not learning\n",
            "Bot: Actually i am very simple another word for is is\n",
            "User: you are not advanced\n",
            "Bot: No i am just giving sarcastic replies\n",
            "User: YOU ARE NOT ALIVE\n",
            "Bot: Wow happy the keep smiling i am always one one\n",
            "User: you are lovelt\n",
            "Bot: I am improving all the time\n",
            "User: you are lovely\n",
            "Bot: I am improving all the time\n",
            "User: you are smarter\n",
            "Bot: What makes you so mad ?\n",
            "User: YOU ARE A PROGRAM\n",
            "Bot: I am a program\n",
            "User: what is your cpu\n",
            "Bot: Not since they put pressure on napster\n",
            "User: what is name again\n",
            "Bot: I may one day be able to however\n",
            "User: what is your name\n",
            "Bot: You are too nice\n",
            "User: WHAT IS YOUR FAVORITE OS\n",
            "Bot: Are are talking to me\n",
            "User: Quit\n",
            "Bot: Bye Have a nice day\n"
          ],
          "name": "stdout"
        }
      ]
    },
    {
      "metadata": {
        "id": "kXoY9p70Q6eR",
        "colab_type": "text"
      },
      "cell_type": "markdown",
      "source": [
        "# To check the CPU AND GPU Power"
      ]
    },
    {
      "metadata": {
        "id": "GFJZR0rtlJc4",
        "colab_type": "code",
        "outputId": "30fcf1f6-deca-44f1-b4f4-8762cca1ff92",
        "colab": {
          "base_uri": "https://localhost:8080/",
          "height": 476
        }
      },
      "cell_type": "code",
      "source": [
        "# check cpu and Gpu\n",
        "\n",
        "from tensorflow.python.client import device_lib\n",
        "\n",
        "device_lib.list_local_devices()"
      ],
      "execution_count": 2,
      "outputs": [
        {
          "output_type": "execute_result",
          "data": {
            "text/plain": [
              "[name: \"/device:CPU:0\"\n",
              " device_type: \"CPU\"\n",
              " memory_limit: 268435456\n",
              " locality {\n",
              " }\n",
              " incarnation: 169830042280698947, name: \"/device:XLA_CPU:0\"\n",
              " device_type: \"XLA_CPU\"\n",
              " memory_limit: 17179869184\n",
              " locality {\n",
              " }\n",
              " incarnation: 16109547018627425507\n",
              " physical_device_desc: \"device: XLA_CPU device\", name: \"/device:XLA_GPU:0\"\n",
              " device_type: \"XLA_GPU\"\n",
              " memory_limit: 17179869184\n",
              " locality {\n",
              " }\n",
              " incarnation: 7725288112849992358\n",
              " physical_device_desc: \"device: XLA_GPU device\", name: \"/device:GPU:0\"\n",
              " device_type: \"GPU\"\n",
              " memory_limit: 11276946637\n",
              " locality {\n",
              "   bus_id: 1\n",
              "   links {\n",
              "   }\n",
              " }\n",
              " incarnation: 1107082811175316295\n",
              " physical_device_desc: \"device: 0, name: Tesla K80, pci bus id: 0000:00:04.0, compute capability: 3.7\"]"
            ]
          },
          "metadata": {
            "tags": []
          },
          "execution_count": 2
        }
      ]
    },
    {
      "metadata": {
        "trusted": true,
        "id": "XFg4CtselJdC",
        "colab_type": "code",
        "colab": {}
      },
      "cell_type": "code",
      "source": [
        ""
      ],
      "execution_count": 0,
      "outputs": []
    },
    {
      "metadata": {
        "id": "Ut51A5dGlJdF",
        "colab_type": "code",
        "colab": {}
      },
      "cell_type": "code",
      "source": [
        ""
      ],
      "execution_count": 0,
      "outputs": []
    },
    {
      "metadata": {
        "id": "4vv6yofalJdJ",
        "colab_type": "code",
        "colab": {}
      },
      "cell_type": "code",
      "source": [
        ""
      ],
      "execution_count": 0,
      "outputs": []
    }
  ]
}