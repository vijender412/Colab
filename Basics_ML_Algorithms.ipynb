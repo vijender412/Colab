{
  "nbformat": 4,
  "nbformat_minor": 0,
  "metadata": {
    "colab": {
      "name": "Basics ML Algorithms.ipynb",
      "version": "0.3.2",
      "provenance": [],
      "collapsed_sections": [
        "j-6euodbKBlR",
        "fVMzjcd0J3Ht"
      ],
      "include_colab_link": true
    },
    "language_info": {
      "name": "python",
      "version": "3.6.5",
      "mimetype": "text/x-python",
      "codemirror_mode": {
        "name": "ipython",
        "version": 3
      },
      "pygments_lexer": "ipython3",
      "nbconvert_exporter": "python",
      "file_extension": ".py"
    },
    "kernelspec": {
      "display_name": "Python 3",
      "language": "python",
      "name": "python3"
    }
  },
  "cells": [
    {
      "cell_type": "markdown",
      "metadata": {
        "id": "view-in-github",
        "colab_type": "text"
      },
      "source": [
        "<a href=\"https://colab.research.google.com/github/vijender412/Colab/blob/master/Basics_ML_Algorithms.ipynb\" target=\"_parent\"><img src=\"https://colab.research.google.com/assets/colab-badge.svg\" alt=\"Open In Colab\"/></a>"
      ]
    },
    {
      "metadata": {
        "id": "HItPyUBDKWFP",
        "colab_type": "text"
      },
      "cell_type": "markdown",
      "source": [
        "# Linear Regression"
      ]
    },
    {
      "metadata": {
        "id": "ct7xEAAV8bex",
        "colab_type": "code",
        "outputId": "73364c21-f3b5-49fe-bd8c-fa5a27d88df4",
        "colab": {
          "base_uri": "https://localhost:8080/",
          "height": 340
        }
      },
      "cell_type": "code",
      "source": [
        "# Conversion of Temprature from far to cel\n",
        "\n",
        "import matplotlib.pyplot as plt\n",
        "import numpy as np\n",
        "from sklearn import datasets, linear_model\n",
        "from sklearn.metrics import mean_squared_error, r2_score\n",
        "\n",
        "\n",
        "# Split the data into training/testing sets\n",
        "x = np.array([[0.0], [8.0], [15.0], [22.0], [10], [55], [110]])\n",
        "y = np.array([32, 46.4, 59, 71.6, 50, 131 ,230])\n",
        "\n",
        "\n",
        "# Create linear regression object\n",
        "regr = linear_model.LinearRegression()\n",
        "\n",
        "# Train the model using the training sets\n",
        "regr.fit(x,y)\n",
        "\n",
        "#verify with 35 cel to 95 far\n",
        "# Make predictions using the testing set\n",
        "y_pred = regr.predict(np.array([[35]]))\n",
        "\n",
        "print(y_pred)\n",
        "\n",
        "# The coefficients\n",
        "print('Coefficients: \\n', regr.coef_)\n",
        "# The mean squared error\n",
        "print(\"Mean squared error: %.2f\"\n",
        "      % mean_squared_error(x, y))\n",
        "# Explained variance score: 1 is perfect prediction\n",
        "print('Variance score: %.2f' % r2_score(x, y))\n",
        "\n",
        "# Plot outputs\n",
        "plt.scatter(x, y,  color='black')\n",
        "plt.plot(x, y, color='blue', linewidth=3)\n",
        "\n",
        "plt.xticks(())\n",
        "plt.yticks(())\n",
        "\n",
        "plt.show()"
      ],
      "execution_count": 0,
      "outputs": [
        {
          "output_type": "stream",
          "text": [
            "[95.]\n",
            "Coefficients: \n",
            " [1.8]\n",
            "Mean squared error: 4095.82\n",
            "Variance score: -2.16\n"
          ],
          "name": "stdout"
        },
        {
          "output_type": "display_data",
          "data": {
            "image/png": "[encoded data removed]",
            "text/plain": [
              "<Figure size 432x288 with 1 Axes>"
            ]
          },
          "metadata": {
            "tags": []
          }
        }
      ]
    },
    {
      "metadata": {
        "id": "i4qJ0xdCKIZv",
        "colab_type": "text"
      },
      "cell_type": "markdown",
      "source": [
        "# LogisticRegression"
      ]
    },
    {
      "metadata": {
        "id": "NIyRPzKlBQGv",
        "colab_type": "code",
        "outputId": "883fdddb-f3dc-46e6-d4bd-46ae5ad4f88e",
        "colab": {
          "base_uri": "https://localhost:8080/",
          "height": 68
        }
      },
      "cell_type": "code",
      "source": [
        "#predicting odd and Even with LogiticRegression\n",
        "\n",
        "from sklearn.linear_model import LogisticRegression\n",
        "\n",
        "X = np.array([[0],[1],[2],[3],[4],[5],[6],[7],[8],[9],[10],[18],[12],[13],[11],[14]])\n",
        "y = np.array([\"even\",\"odd\",\"even\",\"odd\",\"even\",\"odd\",\"even\",\"odd\",\"even\",\"odd\",\"even\",\"even\",\"even\",\"odd\",\"odd\",\"even\"])\n",
        "\n",
        "\n",
        "clf = LogisticRegression(random_state=9, solver='lbfgs', multi_class='multinomial').fit(X, y)\n",
        "\n",
        "test = np.array([[3]])\n",
        "\n",
        "print(clf.predict(test))\n",
        "print(clf.predict_proba(test))\n",
        "print(clf.score(X, y))"
      ],
      "execution_count": 0,
      "outputs": [
        {
          "output_type": "stream",
          "text": [
            "['even']\n",
            "[[0.505035 0.494965]]\n",
            "0.5\n"
          ],
          "name": "stdout"
        }
      ]
    },
    {
      "metadata": {
        "id": "j-6euodbKBlR",
        "colab_type": "text"
      },
      "cell_type": "markdown",
      "source": [
        "# LogisticRegressionCV"
      ]
    },
    {
      "metadata": {
        "id": "UGQ9tiuEBez3",
        "colab_type": "code",
        "outputId": "9dab2f39-9e02-42fe-e8f0-72c0182e279c",
        "colab": {
          "base_uri": "https://localhost:8080/",
          "height": 68
        }
      },
      "cell_type": "code",
      "source": [
        "from sklearn.datasets import load_iris\n",
        "from sklearn.linear_model import LogisticRegressionCV\n",
        "\n",
        "X = np.array([[0],[1],[2],[3],[4],[5],[6],[7],[8],[9],[10],[18],[12],[13],[11],[14]])\n",
        "y = np.array([\"even\",\"odd\",\"even\",\"odd\",\"even\",\"odd\",\"even\",\"odd\",\"even\",\"odd\",\"even\",\"even\",\"even\",\"odd\",\"odd\",\"even\"])\n",
        "\n",
        "clf = LogisticRegressionCV(cv=5, random_state=0, multi_class='multinomial').fit(X, y)\n",
        "\n",
        "test = np.array([[1]])\n",
        "\n",
        "print(clf.predict(test))\n",
        "print(clf.predict_proba(test))\n",
        "print(clf.score(X, y))"
      ],
      "execution_count": 0,
      "outputs": [
        {
          "output_type": "stream",
          "text": [
            "['even']\n",
            "[[0.5609429 0.4390571]]\n",
            "0.5625\n"
          ],
          "name": "stdout"
        }
      ]
    },
    {
      "metadata": {
        "id": "fVMzjcd0J3Ht",
        "colab_type": "text"
      },
      "cell_type": "markdown",
      "source": [
        "# Stochastic Gradient Descent (SGD) learning with Logistic Regression"
      ]
    },
    {
      "metadata": {
        "id": "iurYntxNJKtL",
        "colab_type": "code",
        "outputId": "e564015b-4ab9-4357-a43a-f386b4233a91",
        "colab": {
          "base_uri": "https://localhost:8080/",
          "height": 51
        }
      },
      "cell_type": "code",
      "source": [
        "import numpy as np\n",
        "from sklearn import linear_model\n",
        "\n",
        "X = np.array([[0],[1],[2],[3],[4],[5],[6],[7],[8],[9],[10],[18],[12],[13],[11],[14]])\n",
        "y = np.array([\"even\",\"odd\",\"even\",\"odd\",\"even\",\"odd\",\"even\",\"odd\",\"even\",\"odd\",\"even\",\"even\",\"even\",\"odd\",\"odd\",\"even\"])\n",
        "\n",
        "clf = linear_model.SGDClassifier(max_iter=1000, tol=1e-3)\n",
        "clf.fit(X, y)\n",
        "\n",
        "\n",
        "test = np.array([[3]])\n",
        "\n",
        "print(clf.predict(test))\n",
        "print(clf.score(X, y))"
      ],
      "execution_count": 0,
      "outputs": [
        {
          "output_type": "stream",
          "text": [
            "['even']\n",
            "0.5625\n"
          ],
          "name": "stdout"
        }
      ]
    },
    {
      "metadata": {
        "id": "yD8BYYwpJfGQ",
        "colab_type": "code",
        "colab": {}
      },
      "cell_type": "code",
      "source": [
        ""
      ],
      "execution_count": 0,
      "outputs": []
    },
    {
      "metadata": {
        "id": "47QrBhYz3RXB",
        "colab_type": "text"
      },
      "cell_type": "markdown",
      "source": [
        "# Random Forest for Regression"
      ]
    },
    {
      "metadata": {
        "trusted": true,
        "_uuid": "5272249b372f288645908b1b962247600b985268",
        "id": "zZtgLKrr2aDJ",
        "colab_type": "code",
        "outputId": "49f68f75-8a83-40ea-a999-7f2a55514761",
        "colab": {
          "base_uri": "https://localhost:8080/",
          "height": 71
        }
      },
      "cell_type": "code",
      "source": [
        "from sklearn.ensemble import RandomForestRegressor\n",
        "from sklearn.datasets import make_regression\n",
        "\n",
        "X, y = make_regression(n_features=4, n_informative=2,\n",
        "                       random_state=0, shuffle=False)\n",
        "regr = RandomForestRegressor(max_depth=2, random_state=0,\n",
        "                             n_estimators=100)\n",
        "regr.fit(X, y)\n",
        "\n",
        "\n",
        "\n",
        "print(regr.feature_importances_)\n",
        "\n",
        "print(regr.predict([[0, 0, 0, 0]]))"
      ],
      "execution_count": 0,
      "outputs": [
        {
          "output_type": "stream",
          "text": [
            "[0.18146984 0.81473937 0.00145312 0.00233767]\n",
            "[-8.32987858]\n"
          ],
          "name": "stdout"
        }
      ]
    }
  ]
}